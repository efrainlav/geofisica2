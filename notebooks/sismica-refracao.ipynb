{
 "cells": [
  {
   "cell_type": "markdown",
   "metadata": {},
   "source": [
    "**Course website**: http://lagex.github.io/geofisica2\n",
    "\n",
    "**Note**: This notebook is part of the course \"Geofísica 2\" of Geology program of the \n",
    "[Universidade do Estado do Rio de Janeiro](http://www.uerj.br/). \n",
    "All content can be freely used and adapted under the terms of the \n",
    "[Creative Commons Attribution 4.0 International License](http://creativecommons.org/licenses/by/4.0/).\n",
    "\n",
    "![Creative Commons License](https://i.creativecommons.org/l/by/4.0/88x31.png)"
   ]
  },
  {
   "cell_type": "markdown",
   "metadata": {},
   "source": [
    "Esse documento que você está usando é um [IPython notebook](http://ipython.org/notebook.html). É um documento interativo que mistura texto (como esse), código (como abaixo), e o resultado de executar o código (que pode ser números, texto, figuras, videos, etc)."
   ]
  },
  {
   "cell_type": "markdown",
   "metadata": {},
   "source": [
    "# Prática 5 - Sísmica de refração\n",
    "\n",
    "Nessa prática vamos simular uma aquisição de sísmica de refração. A aquisição será feita para determinar a espessura de uma camada e as velocidades da onda P nessa camada e no meio abaixo. Nesse caso, a camada é a crosta e o meio abaixo é o manto, ou seja, estamos buscando a profundidade da Moho. Em seguida, utilizaremos outro modelo com duas camadas: uma bacia sedimentar e a crosta abaixo dela.\n",
    "\n",
    "Após a simulação, vamos utilizar os dados gerados para fazer uma modelagem direta para determinar a espessura das camadas e as velocidades da onda sísmica (P).\n",
    "\n",
    "Utilizaremos as simulações de ondas da biblioteca [Fatiando a Terra](http://www.fatiando.org). Essas simulações utilizam o [método de diferenças finitas](http://en.wikipedia.org/wiki/Finite_difference_method) para calcular soluções da equação da onda.\n",
    "\n",
    "As tarefas abaixo acompanham as questões que vocês devem responder. Usem as simulações abaixo para te ajudar a responder as perguntas."
   ]
  },
  {
   "cell_type": "markdown",
   "metadata": {},
   "source": [
    "## Preparação\n",
    "\n",
    "Rode a célula abaixo para carregar as componentes necessárias para fazer as simulações. Não se preocupe se aparecer um `:0: FutureWarning: IPython widgets are experimental and may change in the future.` abaixo. Isso é consequência de utilizar tecnologia de ponta."
   ]
  },
  {
   "cell_type": "code",
   "execution_count": null,
   "metadata": {
    "collapsed": false
   },
   "outputs": [],
   "source": [
    "%matplotlib inline\n",
    "from __future__ import division\n",
    "import numpy as np\n",
    "import matplotlib.pyplot as plt\n",
    "from IPython.html import widgets\n",
    "from IPython import display\n",
    "from fatiando import utils\n",
    "from fatiando.seismic.wavefd import Ricker, ElasticPSV, ElasticSH\n",
    "from fatiando.vis import mpl\n",
    "import fatiando\n",
    "plt.rc('font', size=12)"
   ]
  },
  {
   "cell_type": "markdown",
   "metadata": {},
   "source": [
    "## Simulação de uma única interface\n",
    "\n",
    "Rode as células abaixo para simular uma aquisição sísmica de refração em um modelo com uma única interface. Essa interface será a Moho."
   ]
  },
  {
   "cell_type": "code",
   "execution_count": null,
   "metadata": {
    "collapsed": true
   },
   "outputs": [],
   "source": [
    "shape = (200, 800)\n",
    "spacing = 500\n",
    "densidade = np.ones(shape)*2700\n",
    "velocidade = np.ones(shape)*3200\n",
    "l1 = 50e3//spacing\n",
    "densidade[l1:,:] = 3300\n",
    "velocidade[l1:,:] = 5000"
   ]
  },
  {
   "cell_type": "code",
   "execution_count": null,
   "metadata": {
    "collapsed": true
   },
   "outputs": [],
   "source": [
    "sim = ElasticSH(velocidade, densidade, spacing=spacing, taper=0.003, padding=80)\n",
    "sim.add_point_source((0, 100), Ricker(5, 0.5, 1/0.5))"
   ]
  },
  {
   "cell_type": "code",
   "execution_count": null,
   "metadata": {
    "collapsed": false
   },
   "outputs": [],
   "source": [
    "sim.run(3000)"
   ]
  },
  {
   "cell_type": "code",
   "execution_count": null,
   "metadata": {
    "collapsed": false
   },
   "outputs": [],
   "source": [
    "sim.animate(every=30, embed=True, dpi=70, fps=7, cutoff=0.0001, cmap=\"Greys\")"
   ]
  },
  {
   "cell_type": "markdown",
   "metadata": {},
   "source": [
    "## Aquisição de dados de refração"
   ]
  },
  {
   "cell_type": "markdown",
   "metadata": {},
   "source": [
    "A simulação representa um tiro feito na superfície. Agora precisamos extrair os dados que seriam **observados por sismômetros na superfície**. Os sismômetros estão expalhados da fonte até o final da área, como mostra o esquema abaixo:"
   ]
  },
  {
   "cell_type": "code",
   "execution_count": null,
   "metadata": {
    "collapsed": false
   },
   "outputs": [],
   "source": [
    "plt.figure(figsize=(12, 4))\n",
    "ax = plt.subplot(111)\n",
    "ax.axison = False\n",
    "ax.imshow(sim[1500], cmap='Greys', vmin=-1e-4, vmax=1e-4)\n",
    "plt.plot(100, 0, '*y', markersize=15)\n",
    "recs = np.arange(110, shape[1], 12)\n",
    "plt.plot(recs, np.zeros_like(recs), 'vb', markersize=10)\n",
    "plt.xlim(0, shape[1])\n",
    "plt.ylim(shape[0], -10)\n",
    "plt.tight_layout(pad=0)"
   ]
  },
  {
   "cell_type": "markdown",
   "metadata": {},
   "source": [
    "Rode as células abaixo para extrair os dados da simulação e gerar um gráfico."
   ]
  },
  {
   "cell_type": "code",
   "execution_count": null,
   "metadata": {
    "collapsed": false
   },
   "outputs": [],
   "source": [
    "dados_moho = sim[:, 0, 100::5]\n",
    "distancia = np.linspace(0, spacing*shape[1] - spacing*100, dados_moho.shape[1])\n",
    "tempo = np.linspace(0, sim.dt*(sim.it + 1), sim.it + 1)\n",
    "extent = (distancia[0]/1000, distancia[-1]/1000, tempo[-1], 0)"
   ]
  },
  {
   "cell_type": "code",
   "execution_count": null,
   "metadata": {
    "collapsed": false
   },
   "outputs": [],
   "source": [
    "def plota_dados(dados, distancia, tempo, scale=0.00004, ax=None):\n",
    "    if ax is None:\n",
    "        plt.figure(figsize=(10, 4))\n",
    "        ax = plt.subplot(111)\n",
    "    plt.pcolormesh(distancia/1000, tempo, dados, cmap=\"Greys\", vmin=-scale, vmax=scale)\n",
    "    plt.xlabel(u'distância da fonte (km)')\n",
    "    plt.ylabel('tempo (s)')\n",
    "    plt.ylim(tempo.min(), tempo.max())\n",
    "    plt.tight_layout()"
   ]
  },
  {
   "cell_type": "code",
   "execution_count": null,
   "metadata": {
    "collapsed": false
   },
   "outputs": [],
   "source": [
    "plota_dados(dados_moho, distancia, tempo)"
   ]
  },
  {
   "cell_type": "markdown",
   "metadata": {},
   "source": [
    "Os tons de cinza no gráfico acima representam a direção de oscilação da onda. Escuro representa deslocamento para cima. Branco, para baixo. Cada tira vertical representa o sismograma de um sismômetro localizado naquela coordenada x. Esse conjunto de sismogramas, um ao lado do outro, é chamado de **seção sísmica**. Veremos vários desses de agora em diante."
   ]
  },
  {
   "cell_type": "markdown",
   "metadata": {},
   "source": [
    "## Modelagem direta para uma interface (Moho)\n",
    "\n",
    "Rode a célula abaixo para gerar o gráfico interativo da modelagem."
   ]
  },
  {
   "cell_type": "code",
   "execution_count": null,
   "metadata": {
    "collapsed": false
   },
   "outputs": [],
   "source": [
    "fig = plt.figure(figsize=(10, 5))\n",
    "ax = plt.subplot(111)\n",
    "tmp = np.zeros_like(distancia)\n",
    "plot_td, = ax.plot(distancia/1000, tmp, '-r', label='direta', linewidth=2)\n",
    "plot_tr, = ax.plot(distancia/1000, tmp, '-b', label='refratada', linewidth=2)\n",
    "plt.legend(loc='lower right', fancybox=True)\n",
    "plota_dados(dados_moho, distancia, tempo, ax=ax)\n",
    "\n",
    "def modelo_1_camada(h, v1, v2):\n",
    "    td = distancia/v1\n",
    "    cos_critico = np.cos(np.arcsin(v1/v2))\n",
    "    tr = distancia/v2 + 2*h*cos_critico/v1\n",
    "    plot_td.set_ydata(td)\n",
    "    plot_tr.set_ydata(tr)\n",
    "    display.display(fig)\n",
    "    \n",
    "widgets.interactive(modelo_1_camada,\n",
    "                    h=widgets.FloatSliderWidget(min=1e3, max=100e3, step=1e3, value=20e3),\n",
    "                    v1=widgets.FloatSliderWidget(min=500, max=10000, step=100, value=1000),\n",
    "                    v2=widgets.FloatSliderWidget(min=500, max=10000, step=100, value=10000))"
   ]
  },
  {
   "cell_type": "markdown",
   "metadata": {},
   "source": [
    "A figura acima mostra a seção sísmica que extraímos e duas retas: o tempo de chegada da onda direta (vermelho) e o tempo de chegada da onda refratada (azul). Os botões controlam a espessura da camada (crosta) e as velocidades na camada e abaixo (crosta e manto).\n",
    "\n",
    "**Determine a espessura da Moho e as velocidades da onda P na crosta e no manto.**"
   ]
  },
  {
   "cell_type": "markdown",
   "metadata": {},
   "source": [
    "## Simulação de duas interfaces (bacia-embasamento e Moho)\n",
    "\n",
    "Vamos simular uma situação mais complexa. Agora serão duas interfaces: entre uma bacia sedimentar e o empasamento cristalino e entre a crosta e o manto.\n",
    "\n",
    "Rode as células abaixo para executar a simulação."
   ]
  },
  {
   "cell_type": "code",
   "execution_count": null,
   "metadata": {
    "collapsed": true
   },
   "outputs": [],
   "source": [
    "shape = (200, 800)\n",
    "spacing = 500\n",
    "extent = [0, shape[1]*spacing, shape[0]*spacing, 0]\n",
    "densidade = np.ones(shape)*1800\n",
    "velocidade = np.ones(shape)*2000\n",
    "l = 10e3//spacing\n",
    "densidade[l:,:] = 2700\n",
    "velocidade[l:,:] = 3500\n",
    "l = 50e3//spacing\n",
    "densidade[l:,:] = 3300\n",
    "velocidade[l:,:] = 5000"
   ]
  },
  {
   "cell_type": "code",
   "execution_count": null,
   "metadata": {
    "collapsed": false
   },
   "outputs": [],
   "source": [
    "sim2 = ElasticSH(velocidade, densidade, spacing=spacing, taper=0.003, padding=80)\n",
    "sim2.add_point_source((0, 100), Ricker(5, 0.5, 1/0.5))"
   ]
  },
  {
   "cell_type": "code",
   "execution_count": null,
   "metadata": {
    "collapsed": false
   },
   "outputs": [],
   "source": [
    "sim2.run(3000)"
   ]
  },
  {
   "cell_type": "code",
   "execution_count": null,
   "metadata": {
    "collapsed": false
   },
   "outputs": [],
   "source": [
    "sim2.animate(every=30, embed=True, dpi=70, fps=7, cutoff=0.00005, cmap=\"Greys\")"
   ]
  },
  {
   "cell_type": "markdown",
   "metadata": {},
   "source": [
    "## Aquisição de dados para duas interfaces"
   ]
  },
  {
   "cell_type": "markdown",
   "metadata": {},
   "source": [
    "Vamos fazer a aquisição dos dados da mesma forma que para o exercício de uma interface. Os sismômetros estão na superfície, indo da fonte até o final da área.\n",
    "\n",
    "Rode as células abaixo para extrair os dados da simulação e gerar a seção sísmica."
   ]
  },
  {
   "cell_type": "code",
   "execution_count": null,
   "metadata": {
    "collapsed": false
   },
   "outputs": [],
   "source": [
    "dados_moho_bacia = sim2[:, 0, 100::5]"
   ]
  },
  {
   "cell_type": "code",
   "execution_count": null,
   "metadata": {
    "collapsed": false
   },
   "outputs": [],
   "source": [
    "plota_dados(dados_moho_bacia, distancia, tempo)"
   ]
  },
  {
   "cell_type": "markdown",
   "metadata": {},
   "source": [
    "Note que os dados são bem mais complexos que anteriormente com várias refrações e reflexões."
   ]
  },
  {
   "cell_type": "markdown",
   "metadata": {},
   "source": [
    "## Modelagem direta para duas camadas\n",
    "\n",
    "Agora que temos os dados, podemos fazer nossa modelagem direta para determinar as duas interfaces.\n",
    "\n",
    "Rode a célula abaixo para gerar a figura interativa. Determine as espessuras das camadas e as velocidades da onda P."
   ]
  },
  {
   "cell_type": "code",
   "execution_count": null,
   "metadata": {
    "collapsed": false
   },
   "outputs": [],
   "source": [
    "fig = plt.figure(figsize=(10, 5))\n",
    "ax = plt.subplot(111)\n",
    "tmp = np.zeros_like(distancia)\n",
    "plt_td, = ax.plot(distancia/1000, tmp, '-r', label='direta', linewidth=2)\n",
    "plt_tr1, = ax.plot(distancia/1000, tmp, '-b', label='refratada 1', linewidth=2)\n",
    "plt_tr2, = ax.plot(distancia/1000, tmp, '-y', label='refratada 2', linewidth=2)\n",
    "plt.legend(loc='lower right', fancybox=True)\n",
    "plota_dados(dados_moho_bacia, distancia, tempo, ax=ax)\n",
    "\n",
    "def modelo_1_camada(h1, h2, v1, v2, v3):\n",
    "    # h2 deveria ser a espessura da segunda camada\n",
    "    # O que eu estou modelando é a profuncidade da camada\n",
    "    # Então a espessura é a profundidade menos a espessura da de cima\n",
    "    h2 -= h1\n",
    "    td = distancia/v1\n",
    "    cos_critico12 = np.cos(np.arcsin(v1/v2))\n",
    "    tr1 = distancia/v2 + 2*h1*cos_critico12/v1\n",
    "    critico23 = np.arcsin(v2/v3)\n",
    "    tr2 = distancia/v3 + 2*h1*cos_critico12/v1 + 2*h2*np.cos(critico23)/v2\n",
    "    plt_td.set_ydata(td)\n",
    "    plt_tr1.set_ydata(tr1)\n",
    "    plt_tr2.set_ydata(tr2)\n",
    "    display.display(fig)\n",
    "    \n",
    "widgets.interactive(modelo_1_camada,\n",
    "                    h1=widgets.FloatSliderWidget(min=1e3, max=100e3, step=1e3, value=1e3),\n",
    "                    h2=widgets.FloatSliderWidget(min=1e3, max=100e3, step=1e3, value=20e3),\n",
    "                    v1=widgets.FloatSliderWidget(min=500, max=10000, step=100, value=500),\n",
    "                    v2=widgets.FloatSliderWidget(min=500, max=10000, step=100, value=5000),\n",
    "                    v3=widgets.FloatSliderWidget(min=500, max=10000, step=100, value=10000)) "
   ]
  }
 ],
 "metadata": {
  "kernelspec": {
   "display_name": "Python 2",
   "language": "python",
   "name": "python2"
  },
  "language_info": {
   "codemirror_mode": {
    "name": "ipython",
    "version": 2
   },
   "file_extension": ".py",
   "mimetype": "text/x-python",
   "name": "python",
   "nbconvert_exporter": "python",
   "pygments_lexer": "ipython2",
   "version": "2.7.9"
  }
 },
 "nbformat": 4,
 "nbformat_minor": 0
}
