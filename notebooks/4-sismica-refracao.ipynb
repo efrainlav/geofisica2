{
 "cells": [
  {
   "cell_type": "markdown",
   "metadata": {},
   "source": [
    "# 4 - Sísmica de refração\n",
    "\n",
    "Na aula anterior ([3. Refração crítica](3-refracao-critica.ipynb)), vimos o que acontece quando uma onda P incide sobre uma interface no ângulo crítico. A onda que refrata a 90° possui algumas características diferentes das ondas refletida e direta. A sísmica de refração é um método que utiliza essa características para estimar a profundidade da interface e as velocidades dos meios.\n",
    "\n",
    "Utilizaremos as simulações de ondas da biblioteca [Fatiando a Terra](http://www.fatiando.org). Essas simulações utilizam o [método de diferenças finitas](http://en.wikipedia.org/wiki/Finite_difference_method) para calcular soluções da equação da onda."
   ]
  },
  {
   "cell_type": "markdown",
   "metadata": {},
   "source": [
    "## Objetivos\n",
    "\n",
    "* Visualizar como seria um dado sísmico de refração (simulado).\n",
    "* Observar os diversos caminhos que a onda faz para chegar nos receptores e como essas chegadas aparecem nos dados.\n",
    "* Aprender como usar as medições de primeira chegada para calcular a profundidade da interface e as velocidades."
   ]
  },
  {
   "cell_type": "markdown",
   "metadata": {},
   "source": [
    "## Questão para entregar\n",
    "\n",
    "<div class=\"alert alert-info\" style=\"font-size:12pt; margin-top:20px\">\n",
    "<b>Explique como funciona a sísmica de refração.</b>\n",
    "<p>\n",
    "Sua resposta deve conter no mínimo:\n",
    "</p>\n",
    "<ul>\n",
    "    <li>Como são dispostos os receptores e a fonte.</li>\n",
    "    <li>Quais são as considerações que devem ser feitas para a escolha da disposição dos receptores.</li>\n",
    "    <li>O que é medido e qual parte do dado nos interessa.</li>\n",
    "    <li>Como utilizamos essas medições para extrair as informações do meio (sim, eu quero fórmulas).</li>\n",
    "    <li>Quais são as limitações do método.</li>\n",
    "</ul>\n",
    "</div>\n",
    "\n",
    "### Regras para a resposta\n",
    "\n",
    "* Coloque **nome, data e o número da prática** em sua resposta. \n",
    "* A resposta pode ter no **máximo 1 página** (não uma folha).\n",
    "* **Execute o notebook** antes de responder. As simulações abaixo foram feitas para te ajudar.\n",
    "* **Pense e organize** sua resposta andtes de começar a escrever."
   ]
  },
  {
   "cell_type": "markdown",
   "metadata": {},
   "source": [
    "## Instruções\n",
    "\n",
    "Esse documento é um [Jupyter notebook](http://jupyter.org/), um documento interativo que mistura texto (como esse), código (como abaixo), e o resultado de executar o código (números, texto, figuras, videos, etc).\n",
    "\n",
    "O notebook te fornecerá exemplos interativos que trabalham os temas abordados no questionário. Utilize esses exemplos para responder as perguntas.\n",
    "\n",
    "As células com números ao lado, como `In [1]:`, são código [Python](http://python.org/). Algumas dessas células não produzem resultado e servem de preparação para os exemplos interativos. Outras, produzem gráficos interativos. **Você deve executar todas as células, uma de cada vez**, mesmo as que não produzem gráficos.\n",
    "\n",
    "**Para executar uma célula**, clique em cima dela e aperte `Shift + Enter`. O foco (contorno verde ou cinza em torno da célula) deverá passar para a célula abaixo. Para rodá-la, aperte `Shift + Enter` novamente e assim por diante. Você pode executar células de texto que não acontecerá nada."
   ]
  },
  {
   "cell_type": "markdown",
   "metadata": {},
   "source": [
    "## Setup\n",
    "\n",
    "Rode as células abaixo para carregar os módulos necessários para essa prática."
   ]
  },
  {
   "cell_type": "code",
   "execution_count": 1,
   "metadata": {
    "collapsed": false
   },
   "outputs": [],
   "source": [
    "%matplotlib inline\n",
    "from __future__ import division, print_function\n",
    "import numpy as np\n",
    "import matplotlib.pyplot as plt\n",
    "import ipywidgets as ipw\n",
    "from fatiando.seismic import RickerWavelet, FDAcoustic2D"
   ]
  },
  {
   "cell_type": "markdown",
   "metadata": {},
   "source": [
    "## Geração de dados sintéticos\n",
    "\n",
    "Vamos utilizar as simulações de onda P para gerar dados sintéticos. Dessa vez também vamos ignorar as ondas S para não complicar a vida mais do que o necessário. \n",
    "\n",
    "O nosso modelo será uma interface plana separando a crosta do manto (a **Moho**)."
   ]
  },
  {
   "cell_type": "code",
   "execution_count": 23,
   "metadata": {
    "collapsed": false
   },
   "outputs": [
    {
     "data": {
      "text/plain": [
       "200.0"
      ]
     },
     "execution_count": 23,
     "metadata": {},
     "output_type": "execute_result"
    }
   ],
   "source": [
    "40000/200"
   ]
  },
  {
   "cell_type": "code",
   "execution_count": 17,
   "metadata": {
    "collapsed": true
   },
   "outputs": [],
   "source": [
    "shape = (300, 1000)\n",
    "spacing = 400\n",
    "extent = [0, shape[1]*spacing, shape[0]*spacing, 0]\n",
    "density = np.zeros(shape, dtype='float32') + 2700\n",
    "velocity = np.zeros(shape, dtype='float32') + 6000\n",
    "interface = 100\n",
    "density[interface:,:] = 3200\n",
    "velocity[interface:,:] = 8000"
   ]
  },
  {
   "cell_type": "markdown",
   "metadata": {},
   "source": [
    "A fonte será uma explosão na superfície com as seguintes coordenadas:"
   ]
  },
  {
   "cell_type": "code",
   "execution_count": 34,
   "metadata": {
    "collapsed": false
   },
   "outputs": [
    {
     "name": "stdout",
     "output_type": "stream",
     "text": [
      "Coordenadas da fonte:\n",
      "  x = 40000 m\n",
      "  z = 0 m\n"
     ]
    }
   ],
   "source": [
    "fonte = (0, 100)\n",
    "print('Coordenadas da fonte:')\n",
    "print('  x = {} m'.format(fonte[1]*spacing))\n",
    "print('  z = {} m'.format(fonte[0]*spacing))"
   ]
  },
  {
   "cell_type": "markdown",
   "metadata": {},
   "source": [
    "Agora vamos criar o nosso simulador de ondas P com uma fonte explosiva na superfície do nosso modelo."
   ]
  },
  {
   "cell_type": "code",
   "execution_count": 44,
   "metadata": {
    "collapsed": false
   },
   "outputs": [],
   "source": [
    "simul = FDAcoustic2D(velocity, density, spacing=spacing, taper=0.003, padding=80)\n",
    "simul.add_point_source(fonte, RickerWavelet(1, 4))"
   ]
  },
  {
   "cell_type": "code",
   "execution_count": 47,
   "metadata": {
    "collapsed": false
   },
   "outputs": [
    {
     "name": "stdout",
     "output_type": "stream",
     "text": [
      "[##################################################] | 100% Completed | 20.4s\n"
     ]
    }
   ],
   "source": [
    "simul.run(500)"
   ]
  },
  {
   "cell_type": "code",
   "execution_count": 48,
   "metadata": {
    "collapsed": false
   },
   "outputs": [
    {
     "data": {
      "image/png": "[encoded data removed]",
      "text/plain": [
       "<IPython.core.display.Image object>"
      ]
     },
     "metadata": {},
     "output_type": "display_data"
    }
   ],
   "source": [
    "simul.explore(every=10, cutoff=500, cmap='Greys')"
   ]
  },
  {
   "cell_type": "code",
   "execution_count": null,
   "metadata": {
    "collapsed": false
   },
   "outputs": [],
   "source": [
    "simul.run(2000)"
   ]
  },
  {
   "cell_type": "markdown",
   "metadata": {},
   "source": [
    "Rode a célula abaixo para gerar a animação."
   ]
  },
  {
   "cell_type": "code",
   "execution_count": null,
   "metadata": {
    "collapsed": false
   },
   "outputs": [],
   "source": [
    "simul.animate(every=30, embed=True, dpi=60, cutoff=500, fps=6, cmap='Greys')"
   ]
  },
  {
   "cell_type": "code",
   "execution_count": 54,
   "metadata": {
    "collapsed": false
   },
   "outputs": [
    {
     "data": {
      "image/png": "[encoded data removed]",
      "text/plain": [
       "<matplotlib.figure.Figure at 0x7f1279205450>"
      ]
     },
     "metadata": {},
     "output_type": "display_data"
    }
   ],
   "source": [
    "plt.figure(figsize=(12, 4))\n",
    "ax = plt.subplot(111)\n",
    "ax.axison = False\n",
    "ax.imshow(simul[500], cmap='Greys', vmin=-500, vmax=500)\n",
    "ax.plot(100, 0, '*y', markersize=15)\n",
    "recs = np.arange(110, shape[1], 20)\n",
    "plt.plot(recs, np.zeros_like(recs), 'vb', markersize=10)\n",
    "ax.hlines(100, 0, shape[1])\n",
    "plt.xlim(0, shape[1])\n",
    "plt.ylim(shape[0], -10)\n",
    "plt.tight_layout(pad=0)"
   ]
  },
  {
   "cell_type": "markdown",
   "metadata": {},
   "source": [
    "### Para pensar\n",
    "\n",
    "*"
   ]
  },
  {
   "cell_type": "markdown",
   "metadata": {},
   "source": [
    "## License and information\n",
    "\n",
    "**Course website**: https://github.com/leouieda/geofisica2\n",
    "\n",
    "**Note**: This notebook is part of the course \"Geofísica 2\" of Geology program of the \n",
    "[Universidade do Estado do Rio de Janeiro](http://www.uerj.br/). \n",
    "All content can be freely used and adapted under the terms of the \n",
    "[Creative Commons Attribution 4.0 International License](http://creativecommons.org/licenses/by/4.0/).\n",
    "\n",
    "![Creative Commons License](https://i.creativecommons.org/l/by/4.0/88x31.png)"
   ]
  }
 ],
 "metadata": {
  "anaconda-cloud": {},
  "kernelspec": {
   "display_name": "Python 2",
   "language": "python",
   "name": "python2"
  },
  "language_info": {
   "codemirror_mode": {
    "name": "ipython",
    "version": 2
   },
   "file_extension": ".py",
   "mimetype": "text/x-python",
   "name": "python",
   "nbconvert_exporter": "python",
   "pygments_lexer": "ipython2",
   "version": "2.7.12"
  },
  "widgets": {
   "state": {
    "9a39260a9c2c4ba093955fc830ad6430": {
     "views": [
      {
       "cell_index": 14
      }
     ]
    }
   },
   "version": "1.2.0"
  }
 },
 "nbformat": 4,
 "nbformat_minor": 0
}
