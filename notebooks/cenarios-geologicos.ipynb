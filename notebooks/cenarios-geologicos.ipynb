{
 "cells": [
  {
   "cell_type": "markdown",
   "metadata": {},
   "source": [
    "**Course website**: http://lagex.github.io/geofisica2\n",
    "\n",
    "**Note**: This notebook is part of the course \"Geofísica 2\" of Geology program of the \n",
    "[Universidade do Estado do Rio de Janeiro](http://www.uerj.br/). \n",
    "All content can be freely used and adapted under the terms of the \n",
    "[Creative Commons Attribution 4.0 International License](http://creativecommons.org/licenses/by/4.0/).\n",
    "\n",
    "![Creative Commons License](https://i.creativecommons.org/l/by/4.0/88x31.png)"
   ]
  },
  {
   "cell_type": "markdown",
   "metadata": {},
   "source": [
    "Esse documento que você está usando é um [IPython notebook](http://ipython.org/notebook.html). É um documento interativo que mistura texto (como esse), código (como abaixo), e o resultado de executar o código (que pode ser números, texto, figuras, videos, etc)."
   ]
  },
  {
   "cell_type": "markdown",
   "metadata": {},
   "source": [
    "# Prática 9 - Sísmica de reflexão: Anomalias estáticas e de velocidades"
   ]
  },
  {
   "cell_type": "markdown",
   "metadata": {},
   "source": [
    "Nessa prática, vamos simular diversos cenários geológicos utilizando a convolução. Você vai poder desenhar seus modelos em um programa estilo \"MS Paint\", designar velocidades para cada litologia e ver o resultado esperado da sísmica para cada situação.\n",
    "\n",
    "**Objetivos**:\n",
    "\n",
    "* Familiarizar como o processo de modelagem direta para testar sua hipótese\n",
    "* Observar o efeito de anomalias estáticas e de velocidade no dado sísmico\n",
    "* Aprender sobre situações que geralmente induzem a erros na interpretação \n",
    "\n",
    "Exemplos de modelos e a inspiração para essa aula vieram das aulas de [\"Pitfalls in Seismic Interpretation\"](http://pages.geo.wvu.edu/~wilson/geol554.htm) do [Prof. Thomas H. Wilson](http://pages.geo.wvu.edu/~wilson/)."
   ]
  },
  {
   "cell_type": "markdown",
   "metadata": {},
   "source": [
    "## Preparação\n",
    "\n",
    "Rode a célula abaixo para carregar as componentes necessárias para fazer as simulações. Não se preocupe se aparecer um `:0: FutureWarning: IPython widgets are experimental and may change in the future.` abaixo. Isso é consequência de utilizar tecnologia de ponta."
   ]
  },
  {
   "cell_type": "code",
   "execution_count": 1,
   "metadata": {
    "collapsed": false
   },
   "outputs": [
    {
     "name": "stderr",
     "output_type": "stream",
     "text": [
      ":0: FutureWarning: IPython widgets are experimental and may change in the future.\n"
     ]
    }
   ],
   "source": [
    "%matplotlib inline\n",
    "import urllib2\n",
    "from PIL import Image\n",
    "from IPython import display\n",
    "from IPython.html import widgets\n",
    "import numpy as np\n",
    "import matplotlib.pyplot as plt\n",
    "import scipy.misc\n",
    "from fatiando.seismic import conv\n",
    "from fatiando.vis import mpl\n",
    "import fatiando\n",
    "plt.rc('font', size=10)"
   ]
  },
  {
   "cell_type": "code",
   "execution_count": 2,
   "metadata": {
    "collapsed": false
   },
   "outputs": [
    {
     "name": "stdout",
     "output_type": "stream",
     "text": [
      "0.3-257-gef3ff78\n"
     ]
    }
   ],
   "source": [
    "print(fatiando.__version__)"
   ]
  },
  {
   "cell_type": "markdown",
   "metadata": {},
   "source": [
    "## Funções auxiliares"
   ]
  },
  {
   "cell_type": "markdown",
   "metadata": {},
   "source": [
    "Rode as células abaixo para criar as funções que vamos precisar para nossa modelagem."
   ]
  },
  {
   "cell_type": "code",
   "execution_count": null,
   "metadata": {
    "collapsed": true
   },
   "outputs": [],
   "source": [
    "def img_template(fname, pixel_thresh=10, return_colors=False):\n",
    "    img = Image.open(fname)\n",
    "    count, colors = zip(*[[n, c] for n, c in img.getcolors() if n > pixel_thresh])\n",
    "    sort = np.argsort(count)\n",
    "    colors = np.array(colors)[sort][::-1]\n",
    "    data = scipy.misc.fromimage(img)\n",
    "    template = np.zeros(data.shape[:2], dtype=np.int)\n",
    "    for i, c in enumerate(colors):\n",
    "        template[np.all(data == c, axis=2)] = i\n",
    "    # For now, any pixel not of the top colors (eliminated by pixel_thresh)\n",
    "    # is assigned index 0. A better way would be interpolate or copy the neighbors.\n",
    "    if return_colors:\n",
    "        return template, colors\n",
    "    else:\n",
    "        return template"
   ]
  },
  {
   "cell_type": "code",
   "execution_count": null,
   "metadata": {
    "collapsed": false
   },
   "outputs": [],
   "source": [
    "def painter_widget(template, vmin, vmax, step, cmap='copper_r', prop='V', plot_func=None):\n",
    "    colors = np.unique(template)\n",
    "    args = dict(min=vmin, max=vmax, step=step)\n",
    "    sliders = dict([['{}{}'.format(prop, i + 1), widgets.FloatSlider(**args)]\n",
    "                    for i in range(len(colors))])\n",
    "    model = np.empty_like(template)\n",
    "    if plot_func is None:\n",
    "        def plot_func(data):\n",
    "            fig = plt.figure()\n",
    "            ax = plt.subplot(111)\n",
    "            plt.imshow(data, cmap=cmap, vmin=args['min'], vmax=args['max'])\n",
    "            plt.colorbar(pad=0.01, aspect=40).set_label(prop)\n",
    "            ax.set_title('Model')\n",
    "            ax.set_yticklabels([])\n",
    "            ax.set_xticklabels([])\n",
    "            plt.tight_layout()\n",
    "            return fig\n",
    "    def callback(**kwargs):\n",
    "        for v, c in zip(kwargs, colors):\n",
    "            model[template == c] = kwargs[v]\n",
    "        plot_func(model)\n",
    "        return model\n",
    "    return widgets.interactive(callback, **sliders)"
   ]
  },
  {
   "cell_type": "code",
   "execution_count": null,
   "metadata": {
    "collapsed": false
   },
   "outputs": [],
   "source": [
    "def plot_model_conv(vp):\n",
    "    # Gardner's relation: https://en.wikipedia.org/wiki/Gardner%27s_relation\n",
    "    rho = 0.31*(vp**0.25)    \n",
    "    dz = 2000/vp.shape[0]\n",
    "    dt = 0.01\n",
    "    f = 15\n",
    "    vp_t, rho_t = conv.depth_2_time(vp.shape[0], vp.shape[1], vp, dt=dt, dz=dz, rho=rho)\n",
    "    data = conv.seismic_convolutional_model(vp.shape[1], vp_t, f, conv.rickerwave, dt=dt, rho=rho_t)\n",
    "    times = np.arange(vp_t.shape[0])*dt\n",
    "    # Plots\n",
    "    fig = plt.figure(figsize=(12, 4))\n",
    "    ax = plt.subplot(121)\n",
    "    plt.imshow(vp, cmap='copper_r', vmin=1000, vmax=8000, aspect='auto')\n",
    "    plt.colorbar(pad=0.01, aspect=40).set_label('Velocidade (m/s)')\n",
    "    ax.set_title('Modelo')\n",
    "    ax.set_yticklabels([])\n",
    "    ax.set_xticklabels([])\n",
    "    ax = plt.subplot(122)\n",
    "    mpl.seismic_image(data, dt=dt, cmap='RdBu_r', aspect='auto')\n",
    "    ax.set_title(u'Sessão sísmica (convolução c/ wavelet {} Hz)'.format(f))\n",
    "    ax.set_ylabel('tempo (s)')\n",
    "    plt.tight_layout()\n",
    "    return fig"
   ]
  },
  {
   "cell_type": "markdown",
   "metadata": {},
   "source": [
    "## Desenhando modelos"
   ]
  },
  {
   "cell_type": "markdown",
   "metadata": {},
   "source": [
    "Abra o programa [Pinta](http://pinta-project.com/). Ele é um \"MS Paint\" para Linux que é relativamente fácil de usar.\n",
    "\n",
    "![Pinta screenshot](http://pinta-project.com/images/ss2-800.jpg)"
   ]
  },
  {
   "cell_type": "markdown",
   "metadata": {},
   "source": [
    "Utilize o Pinta para desenhar seus modelos:\n",
    "\n",
    "1. Crie uma figura de **300 x 150 pixels** (clique em \"New Figure\"). \n",
    "2. Utilize as ferramentas de retângulo e pincel para desenhar.\n",
    "3. Coloque **cada litologia** com uma cor diferente. Não importa qual.\n",
    "4. Salve sua figura como **.png** na mesma pasta que está esse notebook."
   ]
  },
  {
   "cell_type": "markdown",
   "metadata": {},
   "source": [
    "Após desenhar, coloque o nome da figura na célula abaixo e rode-a para carregar seu modelo."
   ]
  },
  {
   "cell_type": "code",
   "execution_count": null,
   "metadata": {
    "collapsed": false
   },
   "outputs": [],
   "source": [
    "template = img_template('NOME-DA-SUA-FIGURA.png')\n",
    "\n",
    "plt.imshow(template, cmap='cubehelix')"
   ]
  },
  {
   "cell_type": "markdown",
   "metadata": {},
   "source": [
    "Rode a célula abaixo para atribuir velocidades a seu modelo e ver o resultado da convolução. As velocidades `V1, V2, ...` correspondem a cada litologia. A ordem é pelo tamanho total de cada camada (maiores primeiro)."
   ]
  },
  {
   "cell_type": "code",
   "execution_count": null,
   "metadata": {
    "collapsed": false
   },
   "outputs": [],
   "source": [
    "w = painter_widget(template, 1000, 8000, 100, plot_func=plot_model_conv)\n",
    "w"
   ]
  },
  {
   "cell_type": "markdown",
   "metadata": {},
   "source": [
    "Utilize a tabela abaixo (retirada de Kearey et al, 2002) para escolher as velocidades para seu modelo.\n",
    "\n",
    "<img src=\"https://raw.githubusercontent.com/lagex/geofisica2/master/_static/img/rock-velocities.jpg\" height=\"600px\">"
   ]
  },
  {
   "cell_type": "markdown",
   "metadata": {},
   "source": [
    "**Faça modelos para os seguintes casos**:\n",
    "\n",
    "* Um carbonato (recife) com alta velocidade no meio de uma camada em um meio estratificado horizontalmente (faça o topo dele ser um pouco acima da camada na qual está inserido).\n",
    "* Um domo de sal com camadas planas abaixo.\n",
    "* Camadas planas abaixo de uma zona de intemperismo (baixa velocidade) irregular.\n",
    "* Uma camada irregular acima de uma cada plana, ambas cortadas por uma falha.\n",
    "* Invente um modelo geológico baseado em algo visto na costa brasileira."
   ]
  },
  {
   "cell_type": "markdown",
   "metadata": {},
   "source": [
    "Rode a célula abaixo para baixar **exemplos desses modelos**."
   ]
  },
  {
   "cell_type": "code",
   "execution_count": 3,
   "metadata": {
    "collapsed": false
   },
   "outputs": [
    {
     "data": {
      "image/png": "[encoded data removed]",
      "text/plain": [
       "<IPython.core.display.Image object>"
      ]
     },
     "metadata": {},
     "output_type": "display_data"
    },
    {
     "data": {
      "image/png": "[encoded data removed]",
      "text/plain": [
       "<IPython.core.display.Image object>"
      ]
     },
     "metadata": {},
     "output_type": "display_data"
    },
    {
     "data": {
      "image/png": "[encoded data removed]",
      "text/plain": [
       "<IPython.core.display.Image object>"
      ]
     },
     "metadata": {},
     "output_type": "display_data"
    },
    {
     "data": {
      "image/png": "[encoded data removed]",
      "text/plain": [
       "<IPython.core.display.Image object>"
      ]
     },
     "metadata": {},
     "output_type": "display_data"
    }
   ],
   "source": [
    "modelos = ['modelo-camada-intemperismo.png', 'modelo-carbonato.png', 'modelo-sal.png', 'modelo-falha.png']\n",
    "for fname in modelos:\n",
    "    link = urllib2.urlopen('https://raw.githubusercontent.com/lagex/geofisica2/master/data/{}'.format(fname))\n",
    "    with open(fname, 'wb') as f:\n",
    "        f.write(link.read())        \n",
    "    display.display(display.Image(filename=fname))"
   ]
  },
  {
   "cell_type": "markdown",
   "metadata": {},
   "source": [
    "## Referências\n",
    "\n",
    "Kearey, P., M. Brooks, and I. Hill (2002), An Introduction to Geophysical Exploration, 3 edition., Wiley-Blackwell, Malden, MA.\n"
   ]
  }
 ],
 "metadata": {
  "kernelspec": {
   "display_name": "Python 2",
   "language": "python",
   "name": "python2"
  },
  "language_info": {
   "codemirror_mode": {
    "name": "ipython",
    "version": 2
   },
   "file_extension": ".py",
   "mimetype": "text/x-python",
   "name": "python",
   "nbconvert_exporter": "python",
   "pygments_lexer": "ipython2",
   "version": "2.7.10"
  }
 },
 "nbformat": 4,
 "nbformat_minor": 0
}
