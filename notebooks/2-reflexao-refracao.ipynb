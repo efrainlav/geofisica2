{
 "cells": [
  {
   "cell_type": "markdown",
   "metadata": {},
   "source": [
    "# 2 - Reflexão e refração: Lei de Snell\n",
    "\n",
    "Como é o ângulo de reflexão e refração das ondas P e S para diferentes ângulos de incidência? E como isso varia dependendo das velocidades de onda sísmica do meio? A Lei de Snell explica:\n",
    "\n",
    "$$\\dfrac{\\sin \\theta_1}{V_1} = \\dfrac{\\sin \\theta_2}{V_2}$$\n",
    "\n",
    "Nessa prática, vocês deverão usar a Lei de Snell para prever e explicar o comportamento das ondas P e S ao se depararem com uma interface. \n",
    "\n",
    "Utilizaremos as simulações de ondas da biblioteca [Fatiando a Terra](http://www.fatiando.org). Essas simulações utilizam o [método de diferenças finitas](http://en.wikipedia.org/wiki/Finite_difference_method) para calcular soluções da equação da onda."
   ]
  },
  {
   "cell_type": "markdown",
   "metadata": {},
   "source": [
    "## Objetivos\n",
    "\n",
    "* Entender como funciona a Lei de Snell\n",
    "* Observar as previsões da Lei de Snell na propagação de ondas P e S\n",
    "* Checar se os valores previstos na Lei de Snell são observados nas simulações"
   ]
  },
  {
   "cell_type": "markdown",
   "metadata": {},
   "source": [
    "## Questão para entregar\n",
    "\n",
    "<div class=\"alert alert-info\" style=\"font-size:12pt; margin-top:20px\"> \n",
    "Utilize a Lei de Snell para explicar como serão os ângulos de reflexão e refração das ondas P e S quando uma onda P incide em uma interface. Sua resposta deve explicar como isso varia dependendo das velocidades das ondas sísmicas e possíveis casos extremos e limites.\n",
    "</div>\n",
    "\n",
    "### Regras para a resposta\n",
    "\n",
    "* Coloque **nome, data e o número da prática** em sua resposta. \n",
    "* A resposta pode ter no **máximo 1 página** (não uma folha).\n",
    "* **Execute o notebook** antes de responder. As simulações abaixo foram feitas para te ajudar.\n",
    "* **Pense e organize** sua resposta andtes de começar a escrever."
   ]
  },
  {
   "cell_type": "markdown",
   "metadata": {},
   "source": [
    "## Instruções\n",
    "\n",
    "Esse documento é um [Jupyter notebook](http://jupyter.org/), um documento interativo que mistura texto (como esse), código (como abaixo), e o resultado de executar o código (números, texto, figuras, videos, etc).\n",
    "\n",
    "O notebook te fornecerá exemplos interativos que trabalham os temas abordados no questionário. Utilize esses exemplos para responder as perguntas.\n",
    "\n",
    "As células com números ao lado, como `In [1]:`, são código [Python](http://python.org/). Algumas dessas células não produzem resultado e servem de preparação para os exemplos interativos. Outras, produzem gráficos interativos. **Você deve executar todas as células, uma de cada vez**, mesmo as que não produzem gráficos.\n",
    "\n",
    "**Para executar uma célula**, clique em cima dela e aperte `Shift + Enter`. O foco (contorno verde ou cinza em torno da célula) deverá passar para a célula abaixo. Para rodá-la, aperte `Shift + Enter` novamente e assim por diante. Você pode executar células de texto que não acontecerá nada."
   ]
  },
  {
   "cell_type": "markdown",
   "metadata": {},
   "source": [
    "## Setup\n",
    "\n",
    "Rode as células abaixo para carregar os módulos necessários para essa prática."
   ]
  },
  {
   "cell_type": "code",
   "execution_count": null,
   "metadata": {
    "collapsed": false
   },
   "outputs": [],
   "source": [
    "%matplotlib inline\n",
    "from __future__ import division, print_function\n",
    "import numpy as np\n",
    "import matplotlib.pyplot as plt\n",
    "import ipywidgets as ipw\n",
    "from fatiando.seismic import RickerWavelet, GaussianWavelet, FDElasticPSV, FDAcoustic2D"
   ]
  },
  {
   "cell_type": "markdown",
   "metadata": {},
   "source": [
    "## Incidência de ondas P em meios fluidos: V1 < V2\n",
    "\n",
    "Vamos simular uma onda P incidindo na interface entre dois meios fluidos com velocidades $V_{P1} < V_{P2}$."
   ]
  },
  {
   "cell_type": "code",
   "execution_count": null,
   "metadata": {
    "collapsed": true
   },
   "outputs": [],
   "source": [
    "shape = (200, 600)\n",
    "spacing = 5\n",
    "extent = [0, shape[1]*spacing, shape[0]*spacing, 0]"
   ]
  },
  {
   "cell_type": "code",
   "execution_count": null,
   "metadata": {
    "collapsed": true
   },
   "outputs": [],
   "source": [
    "vp1 = 1500\n",
    "vp2 = 2000"
   ]
  },
  {
   "cell_type": "code",
   "execution_count": null,
   "metadata": {
    "collapsed": true
   },
   "outputs": [],
   "source": [
    "increase_density = np.zeros(shape, dtype='float32') + 1000\n",
    "increase_velocity = np.zeros(shape, dtype='float32') + vp1\n",
    "increase_density[100:,:] = 1500\n",
    "increase_velocity[100:,:] = vp2"
   ]
  },
  {
   "cell_type": "markdown",
   "metadata": {},
   "source": [
    "Agora vamos criar o nosso simulador de ondas P com uma fonte explosiva na superfície do nosso modelo."
   ]
  },
  {
   "cell_type": "code",
   "execution_count": null,
   "metadata": {
    "collapsed": false
   },
   "outputs": [],
   "source": [
    "p_increase = FDAcoustic2D(increase_velocity, increase_density, spacing=spacing)\n",
    "fonte = (0, shape[1]//4)\n",
    "p_increase.add_point_source(fonte, RickerWavelet(1, 60))"
   ]
  },
  {
   "cell_type": "markdown",
   "metadata": {},
   "source": [
    "Agora que temos nosso simulador pronto, rode a célcula abaixo para avançar a simulação no tempo."
   ]
  },
  {
   "cell_type": "code",
   "execution_count": null,
   "metadata": {
    "collapsed": false
   },
   "outputs": [],
   "source": [
    "p_increase.run(1500)"
   ]
  },
  {
   "cell_type": "markdown",
   "metadata": {},
   "source": [
    "Essa simulação pode demorar um pouco para terminar."
   ]
  },
  {
   "cell_type": "code",
   "execution_count": null,
   "metadata": {
    "collapsed": false
   },
   "outputs": [],
   "source": [
    "p_increase.animate(every=20, embed=True, dpi=60, cutoff=0.4, fps=7)"
   ]
  },
  {
   "cell_type": "markdown",
   "metadata": {},
   "source": [
    "Rode a próxima célula para explorar fotos de cada etapa da simulação, uma de cada vez. A figura também mostrará 3 raios (onda incidente, refletida e refratada) para um determinado ângulo de incidência que você poderá controlar. Os ângulos de refração e reflexão são calculados com a Lei de Snell."
   ]
  },
  {
   "cell_type": "code",
   "execution_count": null,
   "metadata": {
    "collapsed": false
   },
   "outputs": [],
   "source": [
    "y_bottom = shape[0]*spacing\n",
    "y_interface = 100*spacing\n",
    "def plot_with_p_rays_increasing(tempo, incidencia):    \n",
    "    fig = plt.figure()\n",
    "    ax = plt.subplot(111)\n",
    "    p_increase.snapshot(frame=tempo, ax=ax, cutoff=0.4)\n",
    "    fig.set_size_inches(14, 5.5)\n",
    "    y_source = fonte[0]*spacing\n",
    "    x_source = fonte[1]*spacing\n",
    "    x_incidence = (np.tan(np.radians(incidencia))*(y_interface - y_source)\n",
    "                   + x_source)\n",
    "    x_reflect = 2*x_incidence - x_source\n",
    "    arg = (vp2/vp1)*np.sin(np.radians(incidencia))\n",
    "    if arg <= 1:\n",
    "        refract = np.arcsin(arg)\n",
    "        x_refract = (np.tan(refract)*(y_bottom - y_interface) + x_incidence)\n",
    "        ax.plot([x_incidence, x_refract], [y_interface, y_bottom], '-r', linewidth=2)\n",
    "    ax.plot([x_source, x_incidence], [y_source, y_interface], '-k', linewidth=2)\n",
    "    ax.plot([x_incidence, x_reflect], [y_interface, 0], '-b', linewidth=2)\n",
    "    ax.hlines(y_interface, 0, shape[1]*spacing, colors='grey')\n",
    "    \n",
    "ipw.interactive(plot_with_p_rays_increasing, \n",
    "                tempo=ipw.IntSlider(value=0, min=0, max=p_increase.it, step=50),\n",
    "                incidencia=ipw.FloatSlider(value=45, min=0, max=90, step=0.5))"
   ]
  },
  {
   "cell_type": "markdown",
   "metadata": {},
   "source": [
    "### Para pensar\n",
    "\n",
    "* Como será a proporção entre o ângulo de incidência e o ângulo de reflexão?\n",
    "* E com o ângulo de refração? \n",
    "* Como esses ângulos se relacionam com as curvaturas das frentes de onda?\n",
    "* Por que no final da simulação a onda refratada se separa da onda refletida e incidente?\n",
    "* Por que não há refração acima de um determinado ângulo?\n",
    "* Qual ângulo é esse?"
   ]
  },
  {
   "cell_type": "markdown",
   "metadata": {},
   "source": [
    "## Incidência de ondas P em meios fluidos: V1 > V2\n",
    "\n",
    "Agora que vocês visualizaram como uma onda P se propaga, vamos ver o que acontece quando a subsuperfície contem duas camadas com velocidades e densidades diferentes. No nosso caso de fluidos, poderiam ser duas camadas de água com temperatuda e salinidade diferentes, fazendo com que a velocidade da onda P e a densidade sejam diferentes.\n",
    "\n",
    "Vamos fazer um modelo com a camada de baixo mais densa e com velocidade maior. A interface está localizada a 500m de profundidade."
   ]
  },
  {
   "cell_type": "code",
   "execution_count": null,
   "metadata": {
    "collapsed": true
   },
   "outputs": [],
   "source": [
    "twolayer_density = np.zeros(shape, dtype='float32') + 1000\n",
    "twolayer_velocity = np.zeros(shape, dtype='float32') + 1500\n",
    "twolayer_density[100:,:] = 1500\n",
    "twolayer_velocity[100:,:] = 2000"
   ]
  },
  {
   "cell_type": "markdown",
   "metadata": {},
   "source": [
    "Novamente, crie a simulação adicione uma fonte explosiva no topo."
   ]
  },
  {
   "cell_type": "code",
   "execution_count": null,
   "metadata": {
    "collapsed": false
   },
   "outputs": [],
   "source": [
    "pwave2 = FDAcoustic2D(twolayer_velocity, twolayer_density, spacing=spacing, taper=0.005)\n",
    "pwave2.add_point_source((0, shape[1]//2), RickerWavelet(1, 60))"
   ]
  },
  {
   "cell_type": "markdown",
   "metadata": {},
   "source": [
    "Rode a simulação por 600 iterações."
   ]
  },
  {
   "cell_type": "code",
   "execution_count": null,
   "metadata": {
    "collapsed": false
   },
   "outputs": [],
   "source": [
    "pwave2.run(700)"
   ]
  },
  {
   "cell_type": "markdown",
   "metadata": {},
   "source": [
    "Gere a animação abaixo. O que acontece quando a frente de onda chega na interface?"
   ]
  },
  {
   "cell_type": "code",
   "execution_count": null,
   "metadata": {
    "collapsed": false
   },
   "outputs": [],
   "source": [
    "pwave2.animate(every=10, embed=True, dpi=50, cutoff=0.5)"
   ]
  },
  {
   "cell_type": "markdown",
   "metadata": {},
   "source": [
    "Rode abaixo para ver cada tempo separado, com calma."
   ]
  },
  {
   "cell_type": "code",
   "execution_count": null,
   "metadata": {
    "collapsed": false
   },
   "outputs": [],
   "source": [
    "pwave2.explore(every=20, cutoff=0.5)"
   ]
  },
  {
   "cell_type": "markdown",
   "metadata": {},
   "source": [
    "### Para pensar\n",
    "\n",
    "* A proporção de energia refletida e refratada é igual?\n",
    "* A curvatura da frente de onda refratada é a mesma que a original?\n",
    "* E a da refletida?"
   ]
  },
  {
   "cell_type": "markdown",
   "metadata": {},
   "source": [
    "## Incidência de ondas P em meios sólidos: V1 < V2\n",
    "\n",
    "Vamos fazer agora uma simulação mais realista que inclui tanto ondas P quanto ondas S propagando em um meio sólido.\n",
    "\n",
    "Para isso, precisamos definir qual é a velocidade de cada um dos tipos de onda no meio. Note que a onda P é sempre mais rápida que a S."
   ]
  },
  {
   "cell_type": "code",
   "execution_count": null,
   "metadata": {
    "collapsed": true
   },
   "outputs": [],
   "source": [
    "density_solid = np.zeros(shape, dtype='float32') + 2200\n",
    "vs_solid = np.zeros(shape, dtype='float32') + 3000\n",
    "vp_solid = np.zeros(shape, dtype='float32') + 4000"
   ]
  },
  {
   "cell_type": "markdown",
   "metadata": {},
   "source": [
    "Rode a célula abaixo para criar a simulação de ondas P e S. Dessa vez, **não vamos usar uma fonte explosiva**. A fonte será uma **falha reversa com mergulho de 45 graus**. O epicentro será localizada em profundidade a 750m."
   ]
  },
  {
   "cell_type": "code",
   "execution_count": null,
   "metadata": {
    "collapsed": false
   },
   "outputs": [],
   "source": [
    "ps_wave = FDElasticPSV(vp_solid, vs_solid, density_solid, spacing=spacing)\n",
    "ps_wave.add_point_source((shape[0]//2, shape[1]//2), dip=45, wavelet=GaussianWavelet(-1, 100))\n",
    "ps_wave.add_point_source((shape[0]//2 + 1, shape[1]//2 - 1), dip=45, wavelet=GaussianWavelet(1, 100))"
   ]
  },
  {
   "cell_type": "markdown",
   "metadata": {},
   "source": [
    "Agora, avance a simulação 400 iterações no tempo. "
   ]
  },
  {
   "cell_type": "code",
   "execution_count": null,
   "metadata": {
    "collapsed": false
   },
   "outputs": [],
   "source": [
    "ps_wave.run(400)"
   ]
  },
  {
   "cell_type": "markdown",
   "metadata": {},
   "source": [
    "E gere a animação."
   ]
  },
  {
   "cell_type": "code",
   "execution_count": null,
   "metadata": {
    "collapsed": false
   },
   "outputs": [],
   "source": [
    "ps_wave.animate(every=10, plottype=['vectors', 'wavefield'], cutoff=5e-7, scale=5e7, \n",
    "                dpi=80, fps=6, embed=True)"
   ]
  },
  {
   "cell_type": "markdown",
   "metadata": {},
   "source": [
    "Note que essa é diferente da outra. Agora, há vetores na imagem além das frentes de onda coloridas. **Os vetores representam a direção e intensidade do deslocamento de cada ponto no meio**. Os pontinhos pretos são vetores com tamanho zero. Note que no começo da animação aparecem vetorres bem grande no centro representando a fonte da onda."
   ]
  },
  {
   "cell_type": "markdown",
   "metadata": {},
   "source": [
    "Novamente, use a célula abaixo para ver cada etapa da simulação separadamente."
   ]
  },
  {
   "cell_type": "code",
   "execution_count": null,
   "metadata": {
    "collapsed": false
   },
   "outputs": [],
   "source": [
    "ps_wave.explore(every=20, plottype=['vectors', 'wavefield'], scale=5e7, cutoff=5e-7)"
   ]
  },
  {
   "cell_type": "markdown",
   "metadata": {},
   "source": [
    "### Para pensar\n",
    "\n",
    "* Tente achar as ondas P e as S na simulação. Dica: use os vetores de deslocamento.\n",
    "* Qual frente de onda é mais rápida? \n",
    "* Como é a direção de vibração das ondas P? Ela é uniforme para todas as frentes de onda? Tente explicar esse comportamento."
   ]
  },
  {
   "cell_type": "markdown",
   "metadata": {
    "collapsed": true
   },
   "source": [
    "## Incidência de ondas P em meios sólidos: V1 > V2\n",
    "\n",
    "Agora que vocês acharam as ondas P e S, vamos fazer a simulação completa do que acontece quando uma onda P encontra uma interface em um meio sólido.\n",
    "\n",
    "Rode a célula abaixo para criar um modelo com dois meios com velocidades diferentes. A interface entre os dois meios está a 600m."
   ]
  },
  {
   "cell_type": "code",
   "execution_count": null,
   "metadata": {
    "collapsed": true
   },
   "outputs": [],
   "source": [
    "density_twosolid = np.zeros(shape, dtype='float32') + 1800\n",
    "vs_twosolid = np.zeros(shape, dtype='float32') + 2000\n",
    "vp_twosolid = np.zeros(shape, dtype='float32') + 3000\n",
    "l = 120\n",
    "density_twosolid[l:, :] = 2300\n",
    "vs_twosolid[l:, :] = 3000\n",
    "vp_twosolid[l:, :] = 4000"
   ]
  },
  {
   "cell_type": "markdown",
   "metadata": {},
   "source": [
    "A simulação que vamos fazer agora usa uma **fonte explosiva**.  Esse tipo de fonte gera **somente ondas P**. Vamos ver o que acontece quando essa onda encontra a interface. Para variar um pouco, vamos colocar a fonte no fundo do nosso modelo."
   ]
  },
  {
   "cell_type": "code",
   "execution_count": null,
   "metadata": {
    "collapsed": true
   },
   "outputs": [],
   "source": [
    "ps_twolayer = FDElasticPSV(vp_twosolid, vs_twosolid, density_twosolid, spacing, taper=0.004)\n",
    "ps_twolayer.add_blast_source((3*shape[0]//5, shape[1]//2), GaussianWavelet(1, 150))"
   ]
  },
  {
   "cell_type": "markdown",
   "metadata": {},
   "source": [
    "Agora, avance a simulação."
   ]
  },
  {
   "cell_type": "code",
   "execution_count": null,
   "metadata": {
    "collapsed": false
   },
   "outputs": [],
   "source": [
    "ps_twolayer.run(600)"
   ]
  },
  {
   "cell_type": "markdown",
   "metadata": {},
   "source": [
    "E gere a animação. Note que no começo há somente ondas P (pergunta, como você sabe que são só ondas P?)."
   ]
  },
  {
   "cell_type": "code",
   "execution_count": null,
   "metadata": {
    "collapsed": false
   },
   "outputs": [],
   "source": [
    "ps_twolayer.animate(every=10, plottype=['vectors', 'wavefield'], every_particle=6, \n",
    "                    cutoff=5e-7, scale=3e7, dpi=80, fps=6, embed=True)"
   ]
  },
  {
   "cell_type": "code",
   "execution_count": null,
   "metadata": {
    "collapsed": false
   },
   "outputs": [],
   "source": [
    "ps_twolayer.explore(every=20, plottype=['vectors', 'wavefield'], \n",
    "                    cutoff=5e-7, scale=3e7, every_particle=6)"
   ]
  },
  {
   "cell_type": "markdown",
   "metadata": {},
   "source": [
    "### Para pensar\n",
    "\n",
    "* O que acontece quando a onda P incide na interface?\n",
    "* A curvatura das frentes de onda refletidas e refratadas são iguais?\n",
    "* Avance a simulação no tempo novamente e atualize a animação. O que acontece quando a onda P reflete na superfície? E quando a onda S reflete?"
   ]
  },
  {
   "cell_type": "markdown",
   "metadata": {},
   "source": [
    "## License and information\n",
    "\n",
    "**Course website**: https://github.com/leouieda/geofisica2\n",
    "\n",
    "**Note**: This notebook is part of the course \"Geofísica 2\" of Geology program of the \n",
    "[Universidade do Estado do Rio de Janeiro](http://www.uerj.br/). \n",
    "All content can be freely used and adapted under the terms of the \n",
    "[Creative Commons Attribution 4.0 International License](http://creativecommons.org/licenses/by/4.0/).\n",
    "\n",
    "![Creative Commons License](https://i.creativecommons.org/l/by/4.0/88x31.png)"
   ]
  }
 ],
 "metadata": {
  "kernelspec": {
   "display_name": "Python 2",
   "language": "python",
   "name": "python2"
  },
  "language_info": {
   "codemirror_mode": {
    "name": "ipython",
    "version": 2
   },
   "file_extension": ".py",
   "mimetype": "text/x-python",
   "name": "python",
   "nbconvert_exporter": "python",
   "pygments_lexer": "ipython2",
   "version": "2.7.12"
  },
  "widgets": {
   "state": {
    "bd312a2f669541dfb9cd47903534a7c5": {
     "views": [
      {
       "cell_index": 17
      }
     ]
    }
   },
   "version": "1.2.0"
  }
 },
 "nbformat": 4,
 "nbformat_minor": 0
}
