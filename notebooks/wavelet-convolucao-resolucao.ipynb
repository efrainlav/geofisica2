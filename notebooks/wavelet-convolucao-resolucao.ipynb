{
 "cells": [
  {
   "cell_type": "markdown",
   "metadata": {},
   "source": [
    "**Course website**: http://lagex.github.io/geofisica2\n",
    "\n",
    "**Note**: This notebook is part of the course \"Geofísica 2\" of Geology program of the \n",
    "[Universidade do Estado do Rio de Janeiro](http://www.uerj.br/). \n",
    "All content can be freely used and adapted under the terms of the \n",
    "[Creative Commons Attribution 4.0 International License](http://creativecommons.org/licenses/by/4.0/).\n",
    "\n",
    "![Creative Commons License](https://i.creativecommons.org/l/by/4.0/88x31.png)"
   ]
  },
  {
   "cell_type": "markdown",
   "metadata": {},
   "source": [
    "Esse documento que você está usando é um [IPython notebook](http://ipython.org/notebook.html). É um documento interativo que mistura texto (como esse), código (como abaixo), e o resultado de executar o código (que pode ser números, texto, figuras, videos, etc)."
   ]
  },
  {
   "cell_type": "markdown",
   "metadata": {},
   "source": [
    "# Prática 8 - Sísmica de reflexão: wavelets, convolução e resolução\n",
    "\n"
   ]
  },
  {
   "cell_type": "markdown",
   "metadata": {},
   "source": [
    "## Preparação\n",
    "\n",
    "Rode a célula abaixo para carregar as componentes necessárias para fazer as simulações. Não se preocupe se aparecer um `:0: FutureWarning: IPython widgets are experimental and may change in the future.` abaixo. Isso é consequência de utilizar tecnologia de ponta."
   ]
  },
  {
   "cell_type": "code",
   "execution_count": null,
   "metadata": {
    "collapsed": false
   },
   "outputs": [],
   "source": [
    "%matplotlib inline\n",
    "from __future__ import division\n",
    "import time\n",
    "import urllib2\n",
    "import numpy as np\n",
    "import matplotlib.pyplot as plt\n",
    "from mpl_toolkits.axes_grid1 import make_axes_locatable\n",
    "from IPython.html import widgets\n",
    "from IPython import display\n",
    "from fatiando import utils\n",
    "from fatiando.seismic import conv\n",
    "from fatiando.seismic.wavefd import Ricker\n",
    "from fatiando.vis import mpl\n",
    "import fatiando\n",
    "plt.rc('font', size=10)"
   ]
  },
  {
   "cell_type": "code",
   "execution_count": null,
   "metadata": {
    "collapsed": false
   },
   "outputs": [],
   "source": [
    "print(fatiando.__version__)"
   ]
  },
  {
   "cell_type": "markdown",
   "metadata": {},
   "source": [
    "## Convolução\n",
    "\n",
    "A convolução é definida como:\n",
    "\n",
    "$$\n",
    "S(t) = R(t) \\ast W(t) = \\int\\limits_{-\\infty}^{+\\infty} R(\\tau)W(t - \\tau)d\\tau\n",
    "$$\n",
    "\n",
    "A reflexividade é:\n",
    "\n",
    "$$\n",
    "R = \\frac{Amp_{Refletida}}{Amp_{Incidente}} = \\frac{I_2 - I_1}{I_1 + I_2}\n",
    "$$\n",
    "\n",
    "$I = V \\rho$ é a **impedância acústica**."
   ]
  },
  {
   "cell_type": "code",
   "execution_count": null,
   "metadata": {
    "collapsed": false
   },
   "outputs": [],
   "source": [
    "tempos = np.linspace(0, 10, 201)\n",
    "reflex = np.zeros_like(tempos)\n",
    "reflex[55] = 0.5\n",
    "reflex[138] = 1\n",
    "def convolucao(t):    \n",
    "    wave = Ricker(0.5, 1)\n",
    "    sinal = np.zeros_like(tempos)\n",
    "    for i, j in enumerate(tempos[tempos <= t]):\n",
    "        w = wave(j - tempos)\n",
    "        sinal[i] = (w*reflex).sum()\n",
    "    fig, axes = plt.subplots(1, 3, figsize=(7, 6))\n",
    "    for ax, data in zip(axes, [reflex, w, sinal]):\n",
    "        ax.plot(data, tempos, '-k')\n",
    "        ax.invert_yaxis()\n",
    "        ax.set_xlim(-1., 1.)\n",
    "        ax.set_xticks([-0.5, 0, 0.5])\n",
    "        ax.grid()\n",
    "        ax.hlines(t, -1, 1, colors='b', linestyles='--')\n",
    "        ax.hlines(tempos[reflex > 0], -1, 1, colors='r', linestyles='--')\n",
    "    for ax, label in zip(axes, [r\"$\\tau$\", r\"$t - \\tau$\", r\"$t$\"]):\n",
    "        ax.set_ylabel(label, fontsize=18)\n",
    "    for ax, title in zip(axes, [r\"$R(\\tau)$\", r\"$W(t - \\tau)$\", r\"$S(t) = R(t) \\ast W(t)$\"]):\n",
    "        ax.set_title(title, fontsize=16)\n",
    "    plt.tight_layout()\n",
    "widgets.interactive(convolucao, t=widgets.FloatSlider(min=0, max=tempos.max(), step=0.2, value=0))"
   ]
  },
  {
   "cell_type": "markdown",
   "metadata": {},
   "source": [
    "## Resolução\n",
    "\n",
    "$$\n",
    "\\lambda = \\frac{V}{f} = V T\n",
    "$$\n",
    "\n",
    "Resolução máxima $\\approx \\lambda/4$.\n",
    "\n",
    "No exemplo abaixo, $V_1 = 3000\\ m/s$, $\\rho_1 = 1600\\ kg/m^3$, $\\rho_2 = 1800\\ kg/m^3$.\n",
    "\n",
    "Leitura recomendada: [Tuning geology](http://www.agilegeoscience.com/blog/2011/7/8/tuning-geology.html)"
   ]
  },
  {
   "cell_type": "code",
   "execution_count": null,
   "metadata": {
    "collapsed": false
   },
   "outputs": [],
   "source": [
    "def make_wedge(n_samples, n_traces, layer_1_thickness, start_wedge, end_wedge):   \n",
    "    rock_grid = np.zeros((n_samples, n_traces)) \n",
    "    for j in np.arange(n_traces):     \n",
    "        for i in np.arange(n_samples):      \n",
    "            if i <= layer_1_thickness:      \n",
    "                rock_grid[i][j] = 1             \n",
    "            if i > layer_1_thickness:         \n",
    "                rock_grid[i][j] = 3                \n",
    "                if j >= start_wedge and i - layer_1_thickness < j-start_wedge: \n",
    "                    rock_grid[i][j] = 2                    \n",
    "                    if j >= end_wedge and i > layer_1_thickness+(end_wedge-start_wedge):\n",
    "                        rock_grid[i][j] = 3\n",
    "    return rock_grid\n",
    "\n",
    "def resolucao(espessura, velocidade, frequencia, wedge):\n",
    "    shape = (200, 100)\n",
    "    n_samples, n_traces = shape \n",
    "    l1 = 60\n",
    "    if wedge:\n",
    "        rock_grid = make_wedge(n_samples, n_traces, l1, 5, espessura)\n",
    "    else:\n",
    "        rock_grid = np.ones(shape)\n",
    "        rock_grid[l1:l1 + espessura] = 2\n",
    "    vp = rock_grid.copy()\n",
    "    vp[(rock_grid == 1) | (rock_grid == 3)] = 3000\n",
    "    vp[rock_grid == 2] = velocidade\n",
    "    rho = rock_grid.copy()\n",
    "    rho[(rock_grid == 1) | (rock_grid == 3)] = 1600\n",
    "    rho[rock_grid == 2] = 1800\n",
    "    dz = 1000/200\n",
    "    dt = 0.001\n",
    "    vp_t, rho_t = conv.depth_2_time(vp.shape[0], vp.shape[1], vp, dt=dt, dz=dz, rho=rho)\n",
    "    data = conv.seismic_convolutional_model(vp.shape[1], vp_t, frequencia, conv.rickerwave, dt=dt, rho=rho_t)\n",
    "    times = np.arange(vp_t.shape[0])*dt\n",
    "    profiles = np.array([15, 50, 90])\n",
    "    plt.figure(figsize=(12, 4.5))\n",
    "    ax = plt.subplot(121)\n",
    "    mpl.seismic_image(data, dt=dt, cmap='RdBu_r')\n",
    "    plt.vlines(profiles, 0, times.max(), colors='k', linestyles='--')\n",
    "    plt.xlabel('x')\n",
    "    plt.ylabel('tempo (s)')\n",
    "    axes = [plt.subplot(185), plt.subplot(186), plt.subplot(187)]\n",
    "    for ax, i in zip(axes, profiles):\n",
    "        ax.plot(data[:, i], times, '-k')\n",
    "        ax.set_ylim(0, times.max())\n",
    "        ax.set_xlim(-0.5, 0.5)\n",
    "        ax.invert_yaxis()\n",
    "        ax.set_yticklabels([])        \n",
    "        ax.set_xticks([-0.25, 0, 0.25])\n",
    "        ax.grid()\n",
    "    plt.tight_layout(pad=0)\n",
    "widgets.interactive(resolucao, espessura=(20, 80, 5), velocidade=(3100, 5000, 100), frequencia=(4, 30, 2), wedge=True)"
   ]
  },
  {
   "cell_type": "markdown",
   "metadata": {},
   "source": [
    "## Falha"
   ]
  },
  {
   "cell_type": "code",
   "execution_count": null,
   "metadata": {
    "collapsed": false
   },
   "outputs": [],
   "source": [
    "link = urllib2.urlopen('https://raw.githubusercontent.com/lagex/geofisica2/master/_static/img/model-falha.png')\n",
    "with open('model-falha.png', 'wb') as f:\n",
    "    f.write(link.read())"
   ]
  },
  {
   "cell_type": "code",
   "execution_count": null,
   "metadata": {
    "collapsed": false
   },
   "outputs": [],
   "source": [
    "vp = utils.fromimage('model-falha.png', (3000, 5000))\n",
    "rho = vp/2.5"
   ]
  },
  {
   "cell_type": "code",
   "execution_count": null,
   "metadata": {
    "collapsed": false
   },
   "outputs": [],
   "source": [
    "def falha(frequencia):\n",
    "    dt = 0.001\n",
    "    data = conv.seismic_convolutional_model(vp.shape[1], vp, frequencia, conv.rickerwave, dt=dt, rho=rho)\n",
    "    plt.figure(figsize=(14, 4))\n",
    "    plt.suptitle(r'Camada fina  -  $h = 37.5\\ m$  -  $\\lambda/4 = {:.1f}\\ m$'.format(0.25*5000/frequencia), \n",
    "                 fontsize=14)\n",
    "    plt.subplot(1, 2, 1)\n",
    "    mpl.seismic_image(data, dt=dt, cmap='RdBu_r', aspect='auto')\n",
    "    plt.xlabel('x')\n",
    "    plt.ylabel('tempo (s)')\n",
    "    ax = plt.subplot(1, 2, 2)\n",
    "    plt.imshow(vp, cmap='copper_r', aspect='auto')\n",
    "    plt.colorbar(pad=0, aspect=30).set_label('velocidade (m/s)')\n",
    "    ax.set_yticklabels([])\n",
    "    plt.xlabel('x')\n",
    "    plt.subplots_adjust(wspace=0.05)\n",
    "widgets.interactive(falha, frequencia=(5, 50, 5))"
   ]
  },
  {
   "cell_type": "code",
   "execution_count": null,
   "metadata": {
    "collapsed": true
   },
   "outputs": [],
   "source": []
  }
 ],
 "metadata": {
  "kernelspec": {
   "display_name": "Python 2",
   "language": "python",
   "name": "python2"
  },
  "language_info": {
   "codemirror_mode": {
    "name": "ipython",
    "version": 2
   },
   "file_extension": ".py",
   "mimetype": "text/x-python",
   "name": "python",
   "nbconvert_exporter": "python",
   "pygments_lexer": "ipython2",
   "version": "2.7.10"
  }
 },
 "nbformat": 4,
 "nbformat_minor": 0
}
