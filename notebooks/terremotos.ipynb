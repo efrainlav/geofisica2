{
 "cells": [
  {
   "cell_type": "markdown",
   "metadata": {},
   "source": [
    "**Course website**: http://lagex.github.io/geofisica2\n",
    "\n",
    "**Note**: This notebook is part of the course \"Geofísica 2\" of Geology program of the \n",
    "[Universidade do Estado do Rio de Janeiro](http://www.uerj.br/). \n",
    "All content can be freely used and adapted under the terms of the \n",
    "[Creative Commons Attribution 4.0 International License](http://creativecommons.org/licenses/by/4.0/).\n",
    "\n",
    "![Creative Commons License](https://i.creativecommons.org/l/by/4.0/88x31.png)"
   ]
  },
  {
   "cell_type": "markdown",
   "metadata": {},
   "source": [
    "Esse documento que você está usando é um [IPython notebook](http://ipython.org/notebook.html). É um documento interativo que mistura texto (como esse), código (como abaixo), e o resultado de executar o código (que pode ser números, texto, figuras, videos, etc)."
   ]
  },
  {
   "cell_type": "markdown",
   "metadata": {},
   "source": [
    "# Prática 2 - Terremotos\n",
    "\n"
   ]
  },
  {
   "cell_type": "markdown",
   "metadata": {},
   "source": [
    "## Preparação\n",
    "\n",
    "Rode a célula abaixo para carregar as componentes necessárias. Não se preocupe se aparecer um `:0: FutureWarning: IPython widgets are experimental and may change in the future.` abaixo. Vamos utilizar a biblioteca [obspy](http://obspy.org/) para carregar dados sismológicos e fazer gráficos de mecanismo focal."
   ]
  },
  {
   "cell_type": "code",
   "execution_count": 1,
   "metadata": {
    "collapsed": false
   },
   "outputs": [
    {
     "name": "stderr",
     "output_type": "stream",
     "text": [
      ":0: FutureWarning: IPython widgets are experimental and may change in the future.\n"
     ]
    }
   ],
   "source": [
    "%matplotlib inline\n",
    "from __future__ import division\n",
    "from IPython.html import widgets\n",
    "from IPython.display import Image, YouTubeVideo\n",
    "import numpy as np\n",
    "import matplotlib.pyplot as plt\n",
    "from mpl_toolkits.basemap import Basemap\n",
    "import obspy\n",
    "from obspy.imaging.beachball import Beach, Beachball"
   ]
  },
  {
   "cell_type": "markdown",
   "metadata": {},
   "source": [
    "## Mecanismo focal"
   ]
  },
  {
   "cell_type": "markdown",
   "metadata": {},
   "source": [
    "O mecanismo focal de um terromoto descreve como foi a movimentação da falha que gerou o terremoto. \n",
    "Essa informação pode ser obtida através da medição das primeiras oscilações que são captadas por sismômetros.\n",
    "Os três principais números que descrevem a movimentação da falha são:\n",
    "\n",
    "* strike\n",
    "* dip\n",
    "* rake\n",
    "\n",
    "![](http://upload.wikimedia.org/wikipedia/commons/thumb/3/31/StrikeDipPlungeRake.png/443px-StrikeDipPlungeRake.png)\n"
   ]
  },
  {
   "cell_type": "markdown",
   "metadata": {},
   "source": [
    "A represetação gráficas dos planos de falha e direções associadas são feitos através de diagramas \"bola de praia\". A animação abaixo (que vocês deveriam ter visto antes da aula) explica como interpretar os diagramas."
   ]
  },
  {
   "cell_type": "code",
   "execution_count": 2,
   "metadata": {
    "collapsed": false
   },
   "outputs": [
    {
     "data": {
      "text/html": [
       "\n",
       "        <iframe\n",
       "            width=\"400\"\n",
       "            height=\"300\"\n",
       "            src=\"https://www.youtube.com/embed/MomVOkyDdLo\"\n",
       "            frameborder=\"0\"\n",
       "            allowfullscreen\n",
       "        ></iframe>\n",
       "        "
      ],
      "text/plain": [
       "<IPython.lib.display.YouTubeVideo at 0x7f9a18783610>"
      ]
     },
     "execution_count": 2,
     "metadata": {},
     "output_type": "execute_result"
    }
   ],
   "source": [
    "YouTubeVideo('MomVOkyDdLo')"
   ]
  },
  {
   "cell_type": "markdown",
   "metadata": {},
   "source": [
    "Abaixo vamos criar uma figura interativa para vocês entenderem melhor como o diagrama varia para diferentes valores do strike, dip e rake.\n",
    "**Rode a célula abaixo** para gerar a figura."
   ]
  },
  {
   "cell_type": "code",
   "execution_count": null,
   "metadata": {
    "collapsed": false
   },
   "outputs": [],
   "source": [
    "def plot_beachball(strike, dip, rake):\n",
    "    fig = plt.figure(figsize=(6, 6))\n",
    "    Beachball([strike, dip, rake], fig=fig, facecolor='k')\n",
    "widgets.interactive(plot_beachball, \n",
    "                    strike=widgets.FloatSliderWidget(min=0, max=180, step=5, value=0),\n",
    "                    dip=widgets.FloatSliderWidget(min=0, max=90, step=5, value=90),\n",
    "                    rake=widgets.FloatSliderWidget(min=-90, max=90, step=5, value=0))"
   ]
  },
  {
   "cell_type": "markdown",
   "metadata": {},
   "source": [
    "# Credits\n",
    "\n",
    "Image of the fault and associated directions by [Mikenorton](http://commons.wikimedia.org/wiki/File:StrikeDipPlungeRake.png)."
   ]
  }
 ],
 "metadata": {
  "kernelspec": {
   "display_name": "Python 2",
   "language": "python",
   "name": "python2"
  },
  "language_info": {
   "codemirror_mode": {
    "name": "ipython",
    "version": 2
   },
   "file_extension": ".py",
   "mimetype": "text/x-python",
   "name": "python",
   "nbconvert_exporter": "python",
   "pygments_lexer": "ipython2",
   "version": "2.7.9"
  }
 },
 "nbformat": 4,
 "nbformat_minor": 0
}
