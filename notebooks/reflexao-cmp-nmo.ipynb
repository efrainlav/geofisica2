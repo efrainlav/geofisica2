{
 "cells": [
  {
   "cell_type": "markdown",
   "metadata": {},
   "source": [
    "**Course website**: http://lagex.github.io/geofisica2\n",
    "\n",
    "**Note**: This notebook is part of the course \"Geofísica 2\" of Geology program of the \n",
    "[Universidade do Estado do Rio de Janeiro](http://www.uerj.br/). \n",
    "All content can be freely used and adapted under the terms of the \n",
    "[Creative Commons Attribution 4.0 International License](http://creativecommons.org/licenses/by/4.0/).\n",
    "\n",
    "![Creative Commons License](https://i.creativecommons.org/l/by/4.0/88x31.png)"
   ]
  },
  {
   "cell_type": "markdown",
   "metadata": {},
   "source": [
    "Esse documento que você está usando é um [IPython notebook](http://ipython.org/notebook.html). É um documento interativo que mistura texto (como esse), código (como abaixo), e o resultado de executar o código (que pode ser números, texto, figuras, videos, etc)."
   ]
  },
  {
   "cell_type": "markdown",
   "metadata": {},
   "source": [
    "# Prática 6 - Sísmica de reflexão: CMP, NMO e empilhamento\n",
    "\n",
    "Nessa prática, vamos simular a aquisição de uma seção Common Mid Point (CMP). Vamos ver como utilizar a correção de Normal Moveout (NMO) para determinar a velocidade. Também vamos ver como o empilhamento melhora a razão sinal-ruído dos nossos dados.\n",
    "\n",
    "Para isso, vamos utilizar as simulações de ondas da biblioteca [Fatiando a Terra](http://www.fatiando.org). Essas simulações utilizam o [método de diferenças finitas](http://en.wikipedia.org/wiki/Finite_difference_method) para calcular soluções da equação da onda.\n",
    "\n",
    "As tarefas abaixo acompanham as questões que vocês devem responder. Usem as simulações abaixo para te ajudar a responder as perguntas."
   ]
  },
  {
   "cell_type": "markdown",
   "metadata": {},
   "source": [
    "## Preparação\n",
    "\n",
    "Rode a célula abaixo para carregar as componentes necessárias para fazer as simulações. Não se preocupe se aparecer um `:0: FutureWarning: IPython widgets are experimental and may change in the future.` abaixo. Isso é consequência de utilizar tecnologia de ponta."
   ]
  },
  {
   "cell_type": "code",
   "execution_count": null,
   "metadata": {
    "collapsed": false
   },
   "outputs": [],
   "source": [
    "%matplotlib inline\n",
    "from __future__ import division\n",
    "import numpy as np\n",
    "import matplotlib.pyplot as plt\n",
    "from IPython.html import widgets\n",
    "from IPython import display\n",
    "from fatiando import utils\n",
    "from fatiando.seismic.wavefd import Ricker, ElasticSH\n",
    "from fatiando.vis import mpl\n",
    "import fatiando\n",
    "from multiprocessing import Pool"
   ]
  },
  {
   "cell_type": "code",
   "execution_count": null,
   "metadata": {
    "collapsed": false
   },
   "outputs": [],
   "source": [
    "print(fatiando.__version__)"
   ]
  },
  {
   "cell_type": "markdown",
   "metadata": {},
   "source": [
    "## Simulação de um CMP para um modelo de duas camadas\n",
    "\n",
    "Rode as células abaixo para rodar simulações de propagação de ondas em um modelo de duas camadas. Vamos utilizar essas simulações para extrair uma seção Common Mid Point (CMP) para trabalharmos.\n",
    "\n",
    "A célula abaixo cria nosso modelo de duas camadas."
   ]
  },
  {
   "cell_type": "code",
   "execution_count": null,
   "metadata": {
    "collapsed": true
   },
   "outputs": [],
   "source": [
    "shape = (150, 200)\n",
    "spacing = 10\n",
    "extent = [0, shape[1]*spacing, shape[0]*spacing, 0]\n",
    "densidade = np.ones(shape)*1600\n",
    "velocidade = np.ones(shape)*4000\n",
    "l1 = shape[0]//3\n",
    "densidade[l1:,:] = 1800\n",
    "velocidade[l1:,:] = 5000\n",
    "l2 = shape[0]//2\n",
    "densidade[l2:,:] = 2000\n",
    "velocidade[l2:,:] = 6000"
   ]
  },
  {
   "cell_type": "markdown",
   "metadata": {},
   "source": [
    "Em seguida, precisamos definir onde serão localizadas as fontes e os receptores em nossa simulação. Vamos aproveitar e calcular também os espassamentos (offsets) dos receptores. Lembre-se: offset é a distância da conte ao receptor."
   ]
  },
  {
   "cell_type": "code",
   "execution_count": null,
   "metadata": {
    "collapsed": false
   },
   "outputs": [],
   "source": [
    "fontes = np.array(list(reversed(range(55, shape[1]//2 - 5, 5))))\n",
    "recep = np.array([shape[1] - s for s in fontes])\n",
    "offsets = (recep - fontes)*spacing\n",
    "print(\"Utilizando {} fontes e {} receptores.\".format(len(fontes), len(recep)))\n",
    "print('Fontes:     {}'.format(fontes*spacing))\n",
    "print('Receptores: {}'.format(recep*spacing))\n",
    "print('Offsets:    {}'.format(offsets))"
   ]
  },
  {
   "cell_type": "markdown",
   "metadata": {},
   "source": [
    "Vamos rodar as simulações que precisamos (uma por fonte). **A barra de progresso não irá aparecer** pois vamos rodar as simulações em paralelo para agilizar o processo."
   ]
  },
  {
   "cell_type": "code",
   "execution_count": null,
   "metadata": {
    "collapsed": true
   },
   "outputs": [],
   "source": [
    "def run_sim(fonte, its=800):    \n",
    "    sim = ElasticSH(velocidade, densidade, spacing=spacing, taper=0.005, padding=45, verbose=False)\n",
    "    sim.add_point_source((0, fonte), Ricker(5, 45, 2/45))\n",
    "    sim.run(its)\n",
    "    return sim"
   ]
  },
  {
   "cell_type": "code",
   "execution_count": null,
   "metadata": {
    "collapsed": false
   },
   "outputs": [],
   "source": [
    "print('Simulando...')\n",
    "pool = Pool()\n",
    "sims = pool.map(run_sim, fontes)\n",
    "pool.close()\n",
    "print('Terminado.')"
   ]
  },
  {
   "cell_type": "markdown",
   "metadata": {},
   "source": [
    "Rode a célula abaixo para criarmos uma animação da primeira fonte (só para termos uma idéia do que está acontecendo)."
   ]
  },
  {
   "cell_type": "code",
   "execution_count": null,
   "metadata": {
    "collapsed": false
   },
   "outputs": [],
   "source": [
    "sims[0].animate(20, embed=True, dpi=50, fps=5, cutoff=0.0002, cmap='Greys')"
   ]
  },
  {
   "cell_type": "markdown",
   "metadata": {},
   "source": [
    "Agora podemos extrair nosso CMP das simulações que fizemos. Vamos mostrá-lo como uma seção sísmica em escala de cinza."
   ]
  },
  {
   "cell_type": "code",
   "execution_count": null,
   "metadata": {
    "collapsed": false
   },
   "outputs": [],
   "source": [
    "dt = sims[0].dt\n",
    "times = np.linspace(0, dt*sims[0].size, sims[0].size)\n",
    "CMP = np.empty((sims[0].size, len(recep)))\n",
    "for i, sim in enumerate(sims):\n",
    "    CMP[:, i] = sim[:, 0, recep[i]]\n",
    "\n",
    "plt.figure(figsize=(6, 6))\n",
    "plt.title(\"CMP\")\n",
    "mpl.seismic_image(CMP, dt=sims[0].dt, vmin=-0.00001, vmax=0.00001, aspect=20)\n",
    "plt.xlabel(u'# traço')\n",
    "plt.ylabel('tempo (s)')\n",
    "plt.tight_layout()"
   ]
  },
  {
   "cell_type": "markdown",
   "metadata": {},
   "source": [
    "## Correção de NMO e  análise de  velocidades\n",
    "\n",
    "Agora que temos nosso CMP, podemos aplicar a correção de NMO e fazer a nossa análise de velocidades. Rode a célula abaixo para produzir uma figura interativa. Nessa figura, você poderá controlar qual é a velocidade utilizada na correção NMO do nosso CMP. **Determine a velocidade de NMO das duas reflexões**."
   ]
  },
  {
   "cell_type": "code",
   "execution_count": null,
   "metadata": {
    "collapsed": false
   },
   "outputs": [],
   "source": [
    "def nmo_correction(CMP, times, offsets, v):\n",
    "    nmo = np.zeros_like(CMP)\n",
    "    for i, t0 in enumerate(times):\n",
    "        for j, o in enumerate(offsets):\n",
    "            t = np.sqrt(t0**2 + o**2/v[i]**2)\n",
    "            k = t//dt\n",
    "            if k < times.size - 1:\n",
    "                # Linear interpolation of the amplitude\n",
    "                y0, y1 = CMP[k, j], CMP[k + 1, j]\n",
    "                x0, x1 = times[k], times[k + 1]\n",
    "                nmo[i, j] = y0 + (y1 - y0)*(t - x0)/(x1 - x0)\n",
    "    return nmo\n",
    "\n",
    "def nmo_analise(v1, v2):\n",
    "    v = v1*np.ones_like(times)\n",
    "    v[times > 0.35] = v2\n",
    "    nmo = nmo_correction(CMP, times, offsets, v)\n",
    "    plt.figure(figsize=(7, 6))\n",
    "    plt.subplot(121)\n",
    "    plt.title('CMP')\n",
    "    gain = 0.00001\n",
    "    mpl.seismic_image(CMP, dt=sims[0].dt, vmin=-gain, vmax=gain, aspect=30)\n",
    "    plt.grid()\n",
    "    plt.xlabel(u'# traço')\n",
    "    plt.ylabel('tempo (s)')\n",
    "    plt.subplot(122)\n",
    "    plt.title('Corrigido de NMO')\n",
    "    gain = 0.00001\n",
    "    mpl.seismic_image(nmo, dt=sims[0].dt, vmin=-gain, vmax=gain, aspect=30)\n",
    "    plt.grid()\n",
    "    plt.xlabel(u'# traço')\n",
    "    plt.tight_layout()\n",
    "widgets.interactive(nmo_analise, \n",
    "                    v1=widgets.FloatSliderWidget(min=2000, max=6000, step=100, value=2000),\n",
    "                    v2=widgets.FloatSliderWidget(min=2000, max=6000, step=100, value=2000))"
   ]
  },
  {
   "cell_type": "markdown",
   "metadata": {},
   "source": [
    "## Empilhamento\n",
    "\n",
    "Após feita a correção de NMO, podemos então empilhar nosso CMP para produzir um único sismograma (traço) de incidência normal. Em sua forma mais simples, o empilhamento (stack) é a soma de todos os sismogramas (traços).\n",
    "\n",
    "Antes disso, vamos entender melhor como funciona o empilhamento com um exemplo."
   ]
  },
  {
   "cell_type": "markdown",
   "metadata": {},
   "source": [
    "### Exemplo de empilhamento com dados aleatórios\n",
    "\n",
    "Abaixo, vamos gerar sequências de dados totalmente aleatórios."
   ]
  },
  {
   "cell_type": "code",
   "execution_count": null,
   "metadata": {
    "collapsed": true
   },
   "outputs": [],
   "source": [
    "dados_ruido = np.array([np.random.uniform(-0.3, 0.3, size=200) for i in range(10)])"
   ]
  },
  {
   "cell_type": "markdown",
   "metadata": {},
   "source": [
    "Agora, rode a célula abaixo para produzir uma figura interativa. Nessa figura, você vai controlar a amplitude e localização de um **sinal não-aleatório** que vamos inserir nos dados. A figura mostra os dados a esquerda e o resultado do empilhamento a direita.\n",
    "\n",
    "**Varie a posição e tamanho (amplitude) do sinal não-aleatório. Como o empilhamento afeta a qualidade dos dados e nossa habilidade de ver o sinal não-aleatório?**. "
   ]
  },
  {
   "cell_type": "code",
   "execution_count": null,
   "metadata": {
    "collapsed": false
   },
   "outputs": [],
   "source": [
    "def empilhamento(pos_sinal, tamanho_sinal):\n",
    "    N = dados_ruido.shape[1]\n",
    "    x = np.arange(N)\n",
    "    sinal = tamanho_sinal*utils.gaussian(x, pos_sinal, 2)\n",
    "    dados = dados_ruido + sinal\n",
    "    plt.figure(figsize=(10, 6))\n",
    "    plt.subplot(121)\n",
    "    plt.title(u'Dados com ruído e um sinal não-aleatório')\n",
    "    for i, d in enumerate(dados):\n",
    "        plt.plot(d + i + 1, x, '-k')\n",
    "    plt.xlim(0, len(dados) + 1)\n",
    "    plt.xlabel('# do dado')\n",
    "    plt.grid()\n",
    "    ax = plt.subplot(143)\n",
    "    plt.title('Empilhamento')\n",
    "    plt.plot(dados.sum(0), x, '-k')\n",
    "    plt.grid()\n",
    "    plt.xlim(-10, 10)\n",
    "    plt.tight_layout()\n",
    "widgets.interactive(empilhamento, pos_sinal=(0, dados_ruido.shape[1], 10), \n",
    "                    tamanho_sinal=widgets.FloatSliderWidget(min=0, max=1, step=0.1, value=0))"
   ]
  },
  {
   "cell_type": "markdown",
   "metadata": {},
   "source": [
    "### Empilhamento do CMP com ruído\n",
    "\n",
    "Finalmente, vamos empilhar nosso CMP. Mas para ter um pouco de graça, vamos primeiro colocar ruído aleatório nos dados para ficar mais parecido  com a realidade. \n",
    "\n",
    "Rode a célula abaixo para colocar ruído em nosso CMP."
   ]
  },
  {
   "cell_type": "code",
   "execution_count": null,
   "metadata": {
    "collapsed": false
   },
   "outputs": [],
   "source": [
    "ruido = 0.00003\n",
    "CMP_ruido = CMP + np.random.uniform(-ruido, ruido, CMP.shape)\n",
    "\n",
    "plt.figure(figsize=(6, 6))\n",
    "plt.title(\"CMP\")\n",
    "mpl.seismic_image(CMP_ruido, dt=sims[0].dt, vmin=-0.00001, vmax=0.00001, aspect=20)\n",
    "plt.xlabel(u'# traço')\n",
    "plt.ylabel('tempo (s)')\n",
    "plt.tight_layout()"
   ]
  },
  {
   "cell_type": "markdown",
   "metadata": {},
   "source": [
    "Agora que temos um CMP com ruído, vamos fazer novamente a análise de velocidades. Dessa vez, vamos também empilhar o CMP corrigido de NMO para ver como fica o resultado do empilhamento quando utilizamos  a velocidade  de NMO correta. Para comparação, vamos plotar ao lado um dos traços da seção corrigida de NMO (sem empilhamento).\n",
    "\n",
    "Rode a célula abaixo para gerar a figura interativa para nossa análise de velocidades e empilhamento."
   ]
  },
  {
   "cell_type": "code",
   "execution_count": null,
   "metadata": {
    "collapsed": false
   },
   "outputs": [],
   "source": [
    "def nmo_empilhamento(v1, v2):\n",
    "    v = v1*np.ones_like(times)\n",
    "    v[times > 0.35] = v2\n",
    "    nmo = nmo_correction(CMP_ruido, times, offsets, v)\n",
    "    plt.figure(figsize=(11, 6))\n",
    "    plt.subplot(141)\n",
    "    plt.title('CMP')\n",
    "    gain = 0.00005\n",
    "    mpl.seismic_image(CMP_ruido, dt=sims[0].dt, vmin=-gain, vmax=gain, aspect=40)\n",
    "    plt.grid(True)\n",
    "    plt.ylabel('tempo (s)')\n",
    "    plt.subplot(142)\n",
    "    plt.title('Corrigido de NMO')\n",
    "    gain = 0.00005\n",
    "    mpl.seismic_image(nmo, dt=sims[0].dt, vmin=-gain, vmax=gain, aspect=40)\n",
    "    plt.grid(True)\n",
    "    plt.subplot(143)\n",
    "    plt.title('Empilhamento')\n",
    "    stack = np.atleast_2d(nmo.sum(1)).T\n",
    "    mpl.seismic_wiggle(stack, dt=dt, scale=500)\n",
    "    plt.xlim(-1, 1)\n",
    "    plt.grid()\n",
    "    plt.subplot(144)\n",
    "    plt.title(u'Primeiro traço do NMO')\n",
    "    mpl.seismic_wiggle(np.atleast_2d(nmo[:, 0]).T, dt=dt, scale=5000)\n",
    "    plt.xlim(-1, 1)\n",
    "    plt.grid()\n",
    "    plt.tight_layout()\n",
    "    return nmo\n",
    "w = widgets.interactive(nmo_empilhamento, \n",
    "                        v1=widgets.FloatSliderWidget(min=2000, max=6000, step=100, value=2000),\n",
    "                        v2=widgets.FloatSliderWidget(min=2000, max=6000, step=100, value=2000))\n",
    "w"
   ]
  }
 ],
 "metadata": {
  "kernelspec": {
   "display_name": "Python 2",
   "language": "python",
   "name": "python2"
  },
  "language_info": {
   "codemirror_mode": {
    "name": "ipython",
    "version": 2
   },
   "file_extension": ".py",
   "mimetype": "text/x-python",
   "name": "python",
   "nbconvert_exporter": "python",
   "pygments_lexer": "ipython2",
   "version": "2.7.9"
  }
 },
 "nbformat": 4,
 "nbformat_minor": 0
}
