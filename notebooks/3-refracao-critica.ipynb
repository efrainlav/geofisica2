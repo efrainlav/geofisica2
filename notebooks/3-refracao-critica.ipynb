{
 "cells": [
  {
   "cell_type": "markdown",
   "metadata": {},
   "source": [
    "# 3 - Refração crítica\n",
    "\n",
    "\n",
    "Utilizaremos as simulações de ondas da biblioteca [Fatiando a Terra](http://www.fatiando.org). Essas simulações utilizam o [método de diferenças finitas](http://en.wikipedia.org/wiki/Finite_difference_method) para calcular soluções da equação da onda."
   ]
  },
  {
   "cell_type": "markdown",
   "metadata": {},
   "source": [
    "## Objetivos\n",
    "\n",
    "* Observar como a refração crítica ocorre durante a propagação de ondas P.\n",
    "* Verificar as condições para que haja a refração crítica.\n",
    "* Aprender a calcular o ângulo crítico e a distância mínima para haver refração crítica."
   ]
  },
  {
   "cell_type": "markdown",
   "metadata": {},
   "source": [
    "## Questão para entregar\n",
    "\n",
    "<div class=\"alert alert-info\" style=\"font-size:12pt; margin-top:20px\">\n",
    "Explique o fenômeno da refração no ângulo crítico. Sua resposta deve conter no mínimo: condições para ela existir, condições para ela ser observada da superfície, o caminho que a onda percorre da fonte à superfície, como calcular o tempo de chegada.\n",
    "</div>\n",
    "\n",
    "### Regras para a resposta\n",
    "\n",
    "* Coloque **nome, data e o número da prática** em sua resposta. \n",
    "* A resposta pode ter no **máximo 1 página** (não uma folha).\n",
    "* **Execute o notebook** antes de responder. As simulações abaixo foram feitas para te ajudar.\n",
    "* **Pense e organize** sua resposta andtes de começar a escrever."
   ]
  },
  {
   "cell_type": "markdown",
   "metadata": {},
   "source": [
    "## Instruções\n",
    "\n",
    "Esse documento é um [Jupyter notebook](http://jupyter.org/), um documento interativo que mistura texto (como esse), código (como abaixo), e o resultado de executar o código (números, texto, figuras, videos, etc).\n",
    "\n",
    "O notebook te fornecerá exemplos interativos que trabalham os temas abordados no questionário. Utilize esses exemplos para responder as perguntas.\n",
    "\n",
    "As células com números ao lado, como `In [1]:`, são código [Python](http://python.org/). Algumas dessas células não produzem resultado e servem de preparação para os exemplos interativos. Outras, produzem gráficos interativos. **Você deve executar todas as células, uma de cada vez**, mesmo as que não produzem gráficos.\n",
    "\n",
    "**Para executar uma célula**, clique em cima dela e aperte `Shift + Enter`. O foco (contorno verde ou cinza em torno da célula) deverá passar para a célula abaixo. Para rodá-la, aperte `Shift + Enter` novamente e assim por diante. Você pode executar células de texto que não acontecerá nada."
   ]
  },
  {
   "cell_type": "markdown",
   "metadata": {},
   "source": [
    "## Setup\n",
    "\n",
    "Rode as células abaixo para carregar os módulos necessários para essa prática."
   ]
  },
  {
   "cell_type": "code",
   "execution_count": null,
   "metadata": {
    "collapsed": false
   },
   "outputs": [],
   "source": [
    "%matplotlib inline\n",
    "from __future__ import division, print_function\n",
    "import numpy as np\n",
    "import matplotlib.pyplot as plt\n",
    "import ipywidgets as ipw\n",
    "from fatiando.seismic import RickerWavelet, FDAcoustic2D"
   ]
  },
  {
   "cell_type": "markdown",
   "metadata": {},
   "source": [
    "## Onda P gerada por uma fonte na superfície\n",
    "\n",
    "Vamos simular uma onda P incidindo na interface entre dois meios gerada por uma explosão na superfície. \n",
    "\n",
    "Dessa vez, vamos ignorar as ondas S para não complicar a vida."
   ]
  },
  {
   "cell_type": "code",
   "execution_count": null,
   "metadata": {
    "collapsed": true
   },
   "outputs": [],
   "source": [
    "shape = (250, 900)\n",
    "spacing = 30\n",
    "extent = [0, shape[1]*spacing, shape[0]*spacing, 0]"
   ]
  },
  {
   "cell_type": "code",
   "execution_count": null,
   "metadata": {
    "collapsed": false
   },
   "outputs": [],
   "source": [
    "vp1 = 3500\n",
    "vp2 = 4000\n",
    "print(\"Vp1 = {} m/s\".format(vp1))\n",
    "print(\"Vp2 = {} m/s\".format(vp2))"
   ]
  },
  {
   "cell_type": "code",
   "execution_count": null,
   "metadata": {
    "collapsed": false
   },
   "outputs": [],
   "source": [
    "density = np.zeros(shape, dtype='float32') + 2000\n",
    "velocity = np.zeros(shape, dtype='float32') + vp1\n",
    "interface = 60\n",
    "density[interface:,:] = 2300\n",
    "velocity[interface:,:] = vp2\n",
    "print(\"Interface entre os dois meios a {} m de profundidade.\".format(interface*spacing))"
   ]
  },
  {
   "cell_type": "markdown",
   "metadata": {},
   "source": [
    "A fonte será uma explosão na superfície com as seguintes coordenadas:"
   ]
  },
  {
   "cell_type": "code",
   "execution_count": null,
   "metadata": {
    "collapsed": false
   },
   "outputs": [],
   "source": [
    "fonte = (0, shape[1]//5)\n",
    "print('Coordenadas da fonte:')\n",
    "print('  x = {} m'.format(fonte[1]*spacing))\n",
    "print('  z = {} m'.format(fonte[0]*spacing))"
   ]
  },
  {
   "cell_type": "markdown",
   "metadata": {},
   "source": [
    "Agora vamos criar o nosso simulador de ondas P com uma fonte explosiva na superfície do nosso modelo."
   ]
  },
  {
   "cell_type": "code",
   "execution_count": null,
   "metadata": {
    "collapsed": false
   },
   "outputs": [],
   "source": [
    "simul = FDAcoustic2D(velocity, density, spacing=spacing, padding=50, taper=0.0055)\n",
    "print(simul.cachefile)\n",
    "simul.add_point_source(fonte, RickerWavelet(1, 30))"
   ]
  },
  {
   "cell_type": "markdown",
   "metadata": {},
   "source": [
    "Agora que temos nosso simulador pronto, rode a célcula abaixo para avançar a simulação no tempo. Essa simulação pode demorar um pouco para terminar."
   ]
  },
  {
   "cell_type": "code",
   "execution_count": null,
   "metadata": {
    "collapsed": false
   },
   "outputs": [],
   "source": [
    "simul.run(2000)"
   ]
  },
  {
   "cell_type": "markdown",
   "metadata": {},
   "source": [
    "Rode a célula abaixo para gerar a animação."
   ]
  },
  {
   "cell_type": "code",
   "execution_count": null,
   "metadata": {
    "collapsed": false
   },
   "outputs": [],
   "source": [
    "simul.animate(every=30, embed=True, dpi=60, cutoff=1, fps=6, cmap='Greys')"
   ]
  },
  {
   "cell_type": "markdown",
   "metadata": {},
   "source": [
    "Note que na simulação existem ondas refletindo nas bordas da área. **Ignorem essas ondas**. Elas são artefatos da simulação que são difíceis de evitar."
   ]
  },
  {
   "cell_type": "markdown",
   "metadata": {},
   "source": [
    "Rode a próxima célula para gerar uma figura interativa com:\n",
    "\n",
    "* As frentes de onda para cada etapa da simulação, uma de cada vez.\n",
    "* Os raios das ondas incidente e refratada para um ângulo de incidência que você poderá controlar.\n",
    "* Um marcador de distância que você poderá controlar (use para achar a coordenada x de algum evento)."
   ]
  },
  {
   "cell_type": "code",
   "execution_count": null,
   "metadata": {
    "collapsed": false
   },
   "outputs": [],
   "source": [
    "def plot_with_rays(tempo, incidencia, marcador):\n",
    "    fig = plt.figure()\n",
    "    ax = plt.subplot(111)\n",
    "    simul.snapshot(frame=tempo, ax=ax, cutoff=5, cmap='Greys')\n",
    "    fig.set_size_inches(14, 5.4)\n",
    "    ax.set_title('Tempo em segundos: {} s'.format(tempo*simul.dt))\n",
    "    ax.hlines(y_interface, 0, shape[1]*spacing, colors='grey')\n",
    "    y_bottom = shape[0]*spacing\n",
    "    y_interface = 100*spacing\n",
    "    y_source = fonte[0]*spacing\n",
    "    x_source = fonte[1]*spacing\n",
    "    x_incidence = (np.tan(np.radians(incidencia))*(y_interface - y_source)\n",
    "                   + x_source)\n",
    "    ax.plot([x_source, x_incidence], [y_source, y_interface], '-k', linewidth=2)\n",
    "    arg = (vp2/vp1)*np.sin(np.radians(incidencia))\n",
    "    if arg <= 1:\n",
    "        refract = np.arcsin(arg)\n",
    "        x_refract = (np.tan(refract)*(y_bottom - y_interface) + x_incidence)\n",
    "        ax.plot([x_incidence, x_refract], [y_interface, y_bottom], '-r', linewidth=2)    \n",
    "    \n",
    "    ax.vlines(marcador, 0, shape[0]*spacing, colors='blue', linestyles='dashed', linewidth=2)\n",
    "    \n",
    "ipw.interactive(plot_with_rays, \n",
    "                tempo=ipw.IntSlider(value=0, min=0, max=simul.it, step=50),\n",
    "                incidencia=ipw.FloatSlider(value=45, min=0, max=90, step=0.5),\n",
    "                marcador=ipw.FloatSlider(value=10e3, min=0, max=shape[1]*spacing, step=500))"
   ]
  },
  {
   "cell_type": "markdown",
   "metadata": {},
   "source": [
    "### Para pensar\n",
    "\n",
    "*"
   ]
  },
  {
   "cell_type": "markdown",
   "metadata": {},
   "source": [
    "## License and information\n",
    "\n",
    "**Course website**: https://github.com/leouieda/geofisica2\n",
    "\n",
    "**Note**: This notebook is part of the course \"Geofísica 2\" of Geology program of the \n",
    "[Universidade do Estado do Rio de Janeiro](http://www.uerj.br/). \n",
    "All content can be freely used and adapted under the terms of the \n",
    "[Creative Commons Attribution 4.0 International License](http://creativecommons.org/licenses/by/4.0/).\n",
    "\n",
    "![Creative Commons License](https://i.creativecommons.org/l/by/4.0/88x31.png)"
   ]
  }
 ],
 "metadata": {
  "anaconda-cloud": {},
  "kernelspec": {
   "display_name": "Python 2",
   "language": "python",
   "name": "python2"
  },
  "language_info": {
   "codemirror_mode": {
    "name": "ipython",
    "version": 2
   },
   "file_extension": ".py",
   "mimetype": "text/x-python",
   "name": "python",
   "nbconvert_exporter": "python",
   "pygments_lexer": "ipython2",
   "version": "2.7.12"
  },
  "widgets": {
   "state": {
    "3c437e99b1c94354b40a18e60f58176a": {
     "views": [
      {
       "cell_index": 20
      }
     ]
    }
   },
   "version": "1.2.0"
  }
 },
 "nbformat": 4,
 "nbformat_minor": 0
}
